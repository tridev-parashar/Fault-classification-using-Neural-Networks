{
  "cells": [
    {
      "cell_type": "markdown",
      "metadata": {
        "id": "77f8c571"
      },
      "source": [
        "#### Note - The following notebook contains the code solutions for all questions (except 1, 4 and 5). For any theoretical explanation of the code, please refer to the PDF attached along with the submission"
      ],
      "id": "77f8c571"
    },
    {
      "cell_type": "markdown",
      "metadata": {
        "id": "bb66b469"
      },
      "source": [
        "This notebook explores the use of deep learning models to predict the operating mode of a wind turbine based on the two time series from the sensors used in the turbine's operation  \n",
        "\n",
        "The data are sensor readings and operating modes for 4,000 turbine runs. time_series_1 and\n",
        "time_series_2 are NumPy arrays of shape (4000,5000). Each observation corresponds to 5,000\n",
        "records of the turbine over time by one of the two sensors (time_series_1 measures the pitch\n",
        "angle in each second of operation, and time_series_2 measures the generator torque). y is the\n",
        "operating mode for each of the 4,000 turbine runs (0 if the turbine is healthy, 1 if the generator\n",
        "torque is faulty, 2 if the pitch angle is faulty, and 3 if both are faulty). Note that the dataset is\n",
        "balanced in that each operating mode is represented equally often."
      ],
      "id": "bb66b469"
    },
    {
      "cell_type": "code",
      "execution_count": 1,
      "metadata": {
        "id": "bae93ab4"
      },
      "outputs": [],
      "source": [
        "#loading relevant libraries\n",
        "\n",
        "import numpy as np\n",
        "import pickle\n",
        "import tensorflow as tf\n",
        "import pandas as pd\n",
        "import matplotlib.pyplot as plt\n",
        "from tensorflow import keras\n",
        "from tensorflow.keras.models import Sequential\n",
        "from tensorflow.keras.layers import Flatten, Dense, SimpleRNN, BatchNormalization, LSTM, Conv1D, Embedding, GRU\n",
        "from tensorflow.keras.optimizers import Adam, Nadam\n",
        "from tensorflow.keras.metrics import mean_squared_error\n",
        "from tensorflow.data import Dataset, TFRecordDataset\n",
        "import os\n",
        "from sklearn.model_selection import train_test_split\n",
        "from tensorflow.keras.layers import Dropout\n",
        "from tensorflow.python.ops.numpy_ops import np_config\n",
        "from tensorflow.keras import backend as K\n",
        "from tensorflow.keras.applications.mobilenet import MobileNet, preprocess_input\n",
        "from tensorflow.keras.datasets import cifar10\n",
        "from tensorflow.keras.layers import Conv2D, MaxPooling2D, GlobalAveragePooling2D, UpSampling2D, MaxPool2D"
      ],
      "id": "bae93ab4"
    },
    {
      "cell_type": "code",
      "execution_count": 2,
      "metadata": {
        "colab": {
          "base_uri": "https://localhost:8080/"
        },
        "id": "iSDk_jtezUuY",
        "outputId": "60e0edaf-8dd7-4967-ea8f-9e24ad829158"
      },
      "outputs": [
        {
          "output_type": "stream",
          "name": "stdout",
          "text": [
            "Drive already mounted at /content/drive; to attempt to forcibly remount, call drive.mount(\"/content/drive\", force_remount=True).\n",
            "/content/drive/MyDrive\n"
          ]
        }
      ],
      "source": [
        "from google.colab import drive\n",
        "drive.mount('/content/drive')\n",
        "%cd /content/drive/MyDrive/"
      ],
      "id": "iSDk_jtezUuY"
    },
    {
      "cell_type": "code",
      "execution_count": 3,
      "metadata": {
        "id": "f4181604"
      },
      "outputs": [],
      "source": [
        "#importing the time series data of the wind turbines\n",
        "\n",
        "with open('time_series_1.pickle','rb') as handle:\n",
        "    time_series_1 = pickle.load(handle)\n",
        "with open('time_series_2.pickle','rb') as handle:\n",
        "    time_series_2 = pickle.load(handle)\n",
        "with open('y.pickle','rb') as handle:\n",
        "    y = pickle.load(handle)"
      ],
      "id": "f4181604"
    },
    {
      "cell_type": "code",
      "execution_count": 4,
      "metadata": {
        "colab": {
          "base_uri": "https://localhost:8080/"
        },
        "id": "078163f6",
        "outputId": "5f0ee0fd-4e9e-4773-f0c1-552591c9a5c9"
      },
      "outputs": [
        {
          "output_type": "stream",
          "name": "stdout",
          "text": [
            "(4000, 5000)\n",
            "(4000, 5000)\n",
            "(4000,)\n"
          ]
        }
      ],
      "source": [
        "#checking the data shapes\n",
        "\n",
        "print(time_series_1.shape)\n",
        "print(time_series_2.shape)\n",
        "print(y.shape)"
      ],
      "id": "078163f6"
    },
    {
      "cell_type": "code",
      "execution_count": 5,
      "metadata": {
        "colab": {
          "base_uri": "https://localhost:8080/"
        },
        "id": "5aedd7b9",
        "outputId": "7933b99d-1d16-4d50-deb5-901a4cfabc03"
      },
      "outputs": [
        {
          "output_type": "execute_result",
          "data": {
            "text/plain": [
              "(4000, 5000, 2)"
            ]
          },
          "metadata": {},
          "execution_count": 5
        }
      ],
      "source": [
        "#combining time_series_1 and time_series_2, in the format [batch size, number of time steps, features]\n",
        "\n",
        "time_series = np.dstack([time_series_1,time_series_2])\n",
        "time_series.shape"
      ],
      "id": "5aedd7b9"
    },
    {
      "cell_type": "code",
      "execution_count": 6,
      "metadata": {
        "colab": {
          "base_uri": "https://localhost:8080/"
        },
        "id": "13e64fbd",
        "outputId": "2fc9643f-6412-461d-a119-eab5390596ed"
      },
      "outputs": [
        {
          "output_type": "execute_result",
          "data": {
            "text/plain": [
              "(4000, 4)"
            ]
          },
          "metadata": {},
          "execution_count": 6
        }
      ],
      "source": [
        "#convert the y label into dummies (one hot encoding) so that they can be used s categorical labels for the models below\n",
        "\n",
        "y_dummies = tf.keras.utils.to_categorical(y, num_classes=4)\n",
        "y_dummies.shape"
      ],
      "id": "13e64fbd"
    },
    {
      "cell_type": "code",
      "execution_count": 7,
      "metadata": {
        "colab": {
          "base_uri": "https://localhost:8080/"
        },
        "id": "ab955bdc",
        "outputId": "76d880e8-df4d-4d0e-9347-a1a3e62bfa2d"
      },
      "outputs": [
        {
          "output_type": "stream",
          "name": "stdout",
          "text": [
            "(2800, 5000, 2)\n",
            "(2800, 4)\n",
            "(600, 5000, 2)\n",
            "(600, 4)\n",
            "(600, 5000, 2)\n",
            "(600, 4)\n"
          ]
        }
      ],
      "source": [
        "#create training (70%), validation (15%) and test set (15%)\n",
        "\n",
        "X_train, X_other, y_train, y_others = train_test_split(time_series, y_dummies, train_size=0.7, random_state = 123)\n",
        "X_valid, X_test, y_valid, y_test = train_test_split(X_other, y_others, train_size=0.5,random_state = 123 )\n",
        "\n",
        "#check the shape of the data sets\n",
        "\n",
        "print(X_train.shape)\n",
        "print(y_train.shape)\n",
        "print(X_test.shape)\n",
        "print(y_test.shape)\n",
        "print(X_valid.shape)\n",
        "print(y_valid.shape)"
      ],
      "id": "ab955bdc"
    },
    {
      "cell_type": "markdown",
      "metadata": {
        "id": "3c28aadb"
      },
      "source": [
        "#### Q2. Create an Iterator that produces batches of data formatted in the appropriate way for your chosen approach"
      ],
      "id": "3c28aadb"
    },
    {
      "cell_type": "code",
      "execution_count": 8,
      "metadata": {
        "id": "77ee4306"
      },
      "outputs": [],
      "source": [
        "#Combining labels and features into a single dataset\n",
        "\n",
        "train_dataset = tf.data.Dataset.from_tensor_slices((X_train, y_train))\n",
        "val_dataset = tf.data.Dataset.from_tensor_slices((X_valid, y_valid))\n",
        "test_dataset = tf.data.Dataset.from_tensor_slices((X_test, y_test))"
      ],
      "id": "77ee4306"
    },
    {
      "cell_type": "code",
      "execution_count": 9,
      "metadata": {
        "colab": {
          "base_uri": "https://localhost:8080/"
        },
        "id": "04e60b1d",
        "outputId": "bfcea017-9774-460c-8ae6-3e5fc9f57f7d"
      },
      "outputs": [
        {
          "output_type": "execute_result",
          "data": {
            "text/plain": [
              "(TensorSpec(shape=(5000, 2), dtype=tf.uint8, name=None),\n",
              " TensorSpec(shape=(4,), dtype=tf.float32, name=None))"
            ]
          },
          "metadata": {},
          "execution_count": 9
        }
      ],
      "source": [
        "train_dataset.element_spec #Checking what our data contains"
      ],
      "id": "04e60b1d"
    },
    {
      "cell_type": "code",
      "execution_count": 10,
      "metadata": {
        "id": "95837ab6"
      },
      "outputs": [],
      "source": [
        "#Shuffle and batch our training dataset, along with assigning batch sizes for validation and test datasets\n",
        "\n",
        "batch_size = 20\n",
        "shuffle_buffer_size = 100\n",
        "\n",
        "train_dataset = train_dataset.shuffle(shuffle_buffer_size).batch(batch_size)\n",
        "val_dataset = val_dataset.batch(batch_size)\n",
        "test_dataset = test_dataset.batch(batch_size)"
      ],
      "id": "95837ab6"
    },
    {
      "cell_type": "code",
      "execution_count": 11,
      "metadata": {
        "colab": {
          "base_uri": "https://localhost:8080/"
        },
        "id": "b27a17ca",
        "outputId": "c1c02c31-fea5-4696-b6ad-640afae2b15e"
      },
      "outputs": [
        {
          "output_type": "stream",
          "name": "stdout",
          "text": [
            "x-shape: (20, 5000, 2) | y-shape:(20, 4)\n"
          ]
        }
      ],
      "source": [
        "#Checking how the data is returned\n",
        "\n",
        "for item in train_dataset:\n",
        "    print(\"x-shape: \" + str(item[0].shape) + \" | y-shape:\" + str(item[1].shape))\n",
        "    break"
      ],
      "id": "b27a17ca"
    },
    {
      "cell_type": "code",
      "execution_count": 12,
      "metadata": {
        "id": "73188ec0"
      },
      "outputs": [],
      "source": [
        "#Prefetching the data\n",
        "\n",
        "train_dataset = train_dataset.prefetch(1)\n",
        "val_dataset = val_dataset.prefetch(1)\n",
        "test_dataset = test_dataset.prefetch(1)"
      ],
      "id": "73188ec0"
    },
    {
      "cell_type": "markdown",
      "metadata": {
        "id": "820bb9de"
      },
      "source": [
        "#### Q3. Create a neural network in TensorFlow to predict the operating mode of a wind turbine based on the sensor data. Make sure that you try out different layers and elements discussed in class, such as Dense, SimpleRNN, GRU, and Conv1D"
      ],
      "id": "820bb9de"
    },
    {
      "cell_type": "code",
      "execution_count": 13,
      "metadata": {
        "colab": {
          "base_uri": "https://localhost:8080/"
        },
        "id": "5d9e642f",
        "outputId": "38088972-a6a3-4e38-adff-00c026574bc2"
      },
      "outputs": [
        {
          "output_type": "stream",
          "name": "stdout",
          "text": [
            "Model: \"sequential\"\n",
            "_________________________________________________________________\n",
            " Layer (type)                Output Shape              Param #   \n",
            "=================================================================\n",
            " flatten (Flatten)           (None, 10000)             0         \n",
            "                                                                 \n",
            " dense (Dense)               (None, 256)               2560256   \n",
            "                                                                 \n",
            " dense_1 (Dense)             (None, 128)               32896     \n",
            "                                                                 \n",
            " dense_2 (Dense)             (None, 4)                 516       \n",
            "                                                                 \n",
            "=================================================================\n",
            "Total params: 2,593,668\n",
            "Trainable params: 2,593,668\n",
            "Non-trainable params: 0\n",
            "_________________________________________________________________\n"
          ]
        }
      ],
      "source": [
        "#Model 1 (Baseline Model) - Simple feed forward network with 4 dense layers and softmax activation function for output.\n",
        "\n",
        "input_shape = (5000,2)\n",
        "num_classes = 4\n",
        "\n",
        "model_1 = tf.keras.models.Sequential([\n",
        "    tf.keras.layers.Flatten(input_shape=input_shape),\n",
        "    tf.keras.layers.Dense(256, activation=\"relu\"), #256 neurons in the 1st layer\n",
        "    tf.keras.layers.Dense(128, activation=\"relu\"), #128 neurons in the 2nd layer\n",
        "    tf.keras.layers.Dense(4, activation=\"softmax\") #4 neurons (for 4 classes) with softmax activation function\n",
        "])\n",
        "\n",
        "# Print the model summary\n",
        "model_1.summary()"
      ],
      "id": "5d9e642f"
    },
    {
      "cell_type": "code",
      "execution_count": 14,
      "metadata": {
        "id": "09fe0635"
      },
      "outputs": [],
      "source": [
        "# Compile the model\n",
        "loss_fn = tf.keras.losses.CategoricalCrossentropy()\n",
        "model_1.compile(optimizer='adam', loss=loss_fn, metrics=['accuracy'])"
      ],
      "id": "09fe0635"
    },
    {
      "cell_type": "code",
      "execution_count": 15,
      "metadata": {
        "colab": {
          "base_uri": "https://localhost:8080/"
        },
        "id": "66aceb89",
        "outputId": "67da5c07-5ab7-4e1a-e68b-ed85c594072b"
      },
      "outputs": [
        {
          "output_type": "stream",
          "name": "stdout",
          "text": [
            "Epoch 1/20\n",
            "140/140 [==============================] - 8s 20ms/step - loss: 207.6533 - accuracy: 0.4079 - val_loss: 28.3250 - val_accuracy: 0.3433\n",
            "Epoch 2/20\n",
            "140/140 [==============================] - 2s 14ms/step - loss: 31.9218 - accuracy: 0.5679 - val_loss: 20.3921 - val_accuracy: 0.5167\n",
            "Epoch 3/20\n",
            "140/140 [==============================] - 1s 10ms/step - loss: 9.9769 - accuracy: 0.7382 - val_loss: 21.1560 - val_accuracy: 0.6033\n",
            "Epoch 4/20\n",
            "140/140 [==============================] - 1s 8ms/step - loss: 18.9443 - accuracy: 0.6493 - val_loss: 23.2498 - val_accuracy: 0.4667\n",
            "Epoch 5/20\n",
            "140/140 [==============================] - 1s 8ms/step - loss: 7.1894 - accuracy: 0.7600 - val_loss: 4.5552 - val_accuracy: 0.9000\n",
            "Epoch 6/20\n",
            "140/140 [==============================] - 1s 4ms/step - loss: 2.7760 - accuracy: 0.8357 - val_loss: 4.6282 - val_accuracy: 0.8500\n",
            "Epoch 7/20\n",
            "140/140 [==============================] - 1s 4ms/step - loss: 4.6926 - accuracy: 0.7611 - val_loss: 5.3556 - val_accuracy: 0.8133\n",
            "Epoch 8/20\n",
            "140/140 [==============================] - 1s 4ms/step - loss: 1.5820 - accuracy: 0.8382 - val_loss: 1.2772 - val_accuracy: 0.9000\n",
            "Epoch 9/20\n",
            "140/140 [==============================] - 1s 4ms/step - loss: 2.0769 - accuracy: 0.7889 - val_loss: 1.9859 - val_accuracy: 0.8983\n",
            "Epoch 10/20\n",
            "140/140 [==============================] - 1s 4ms/step - loss: 2.5568 - accuracy: 0.6636 - val_loss: 0.6512 - val_accuracy: 0.7483\n",
            "Epoch 11/20\n",
            "140/140 [==============================] - 1s 4ms/step - loss: 0.6092 - accuracy: 0.7507 - val_loss: 0.5072 - val_accuracy: 0.7483\n",
            "Epoch 12/20\n",
            "140/140 [==============================] - 1s 4ms/step - loss: 0.5357 - accuracy: 0.7568 - val_loss: 0.4531 - val_accuracy: 0.7667\n",
            "Epoch 13/20\n",
            "140/140 [==============================] - 1s 4ms/step - loss: 0.4682 - accuracy: 0.7696 - val_loss: 0.4462 - val_accuracy: 0.7767\n",
            "Epoch 14/20\n",
            "140/140 [==============================] - 1s 4ms/step - loss: 0.9972 - accuracy: 0.5168 - val_loss: 1.9981 - val_accuracy: 0.2467\n",
            "Epoch 15/20\n",
            "140/140 [==============================] - 1s 4ms/step - loss: 1.5571 - accuracy: 0.2496 - val_loss: 1.4182 - val_accuracy: 0.2517\n",
            "Epoch 16/20\n",
            "140/140 [==============================] - 1s 6ms/step - loss: 1.3944 - accuracy: 0.2550 - val_loss: 1.3911 - val_accuracy: 0.2517\n"
          ]
        }
      ],
      "source": [
        "#Fitting the training model\n",
        "early_stop = tf.keras.callbacks.EarlyStopping(monitor='val_loss', patience=3, restore_best_weights = True)\n",
        "log_1 = model_1.fit(train_dataset, epochs=20,\n",
        "                    validation_data=val_dataset,callbacks=[early_stop])"
      ],
      "id": "66aceb89"
    },
    {
      "cell_type": "code",
      "execution_count": 16,
      "metadata": {
        "colab": {
          "base_uri": "https://localhost:8080/",
          "height": 430
        },
        "id": "3e8ad9d9",
        "outputId": "04720dcf-c328-4a80-bd12-b9e552d22615"
      },
      "outputs": [
        {
          "output_type": "display_data",
          "data": {
            "text/plain": [
              "<Figure size 640x480 with 1 Axes>"
            ],
            "image/png": "[encoded data removed]"
          },
          "metadata": {}
        }
      ],
      "source": [
        "def create_plot(log_1):\n",
        "    plt.plot(log_1.history['accuracy'],label = \"training accuracy\",color='yellow')\n",
        "    plt.plot(log_1.history['loss'],label = \"training loss\",color='red')\n",
        "    plt.plot(log_1.history['val_accuracy'], label = \"validation accuracy\",color='blue')\n",
        "    plt.plot(log_1.history['val_loss'], label = \"validation loss\",color='green')\n",
        "    plt.legend()\n",
        "    plt.show()\n",
        "create_plot(log_1)"
      ],
      "id": "3e8ad9d9"
    },
    {
      "cell_type": "code",
      "execution_count": 17,
      "metadata": {
        "colab": {
          "base_uri": "https://localhost:8080/"
        },
        "id": "cf5c96b5",
        "outputId": "9a99512d-ef6e-4d21-c635-0922371fdb80"
      },
      "outputs": [
        {
          "output_type": "stream",
          "name": "stdout",
          "text": [
            "30/30 [==============================] - 0s 5ms/step - loss: 0.4589 - accuracy: 0.7950\n",
            "30/30 [==============================] - 0s 4ms/step - loss: 0.4462 - accuracy: 0.7767\n",
            "[0.45887690782546997, 0.7950000166893005]\n",
            "[0.44618305563926697, 0.7766666412353516]\n"
          ]
        }
      ],
      "source": [
        "#Accuracy numbers on test data\n",
        "\n",
        "base_test_accuracy = model_1.evaluate(test_dataset)\n",
        "base_valid_accuracy = model_1.evaluate(val_dataset)\n",
        "print(base_test_accuracy)\n",
        "print(base_valid_accuracy)"
      ],
      "id": "cf5c96b5"
    },
    {
      "cell_type": "code",
      "execution_count": 18,
      "metadata": {
        "colab": {
          "base_uri": "https://localhost:8080/"
        },
        "id": "e770c5b1",
        "outputId": "7f6efc77-9437-4b69-9def-a07abb538838"
      },
      "outputs": [
        {
          "output_type": "stream",
          "name": "stdout",
          "text": [
            "Model: \"sequential_1\"\n",
            "_________________________________________________________________\n",
            " Layer (type)                Output Shape              Param #   \n",
            "=================================================================\n",
            " gru (GRU)                   (None, None, 70)          15540     \n",
            "                                                                 \n",
            " gru_1 (GRU)                 (None, 140)               89040     \n",
            "                                                                 \n",
            " dense_3 (Dense)             (None, 50)                7050      \n",
            "                                                                 \n",
            " dense_4 (Dense)             (None, 4)                 204       \n",
            "                                                                 \n",
            "=================================================================\n",
            "Total params: 111,834\n",
            "Trainable params: 111,834\n",
            "Non-trainable params: 0\n",
            "_________________________________________________________________\n"
          ]
        }
      ],
      "source": [
        "#Model 2 - GRU - 2 layers followed by 2 dense layers (hybrid model using both sequence to sequence and sequence to vector approach)\n",
        "\n",
        "model_2 = Sequential([\n",
        "    GRU(70, return_sequences=True,activation = \"tanh\", input_shape=[None, 2]), #The input sequence has been defined to contain variable length so that each time step contains the readings at a specific point of time \n",
        "    GRU(140,activation = \"tanh\"),  \n",
        "    Dense(50, activation='relu'),\n",
        "    Dense(4, activation = \"softmax\")\n",
        "])\n",
        "model_2.summary()"
      ],
      "id": "e770c5b1"
    },
    {
      "cell_type": "code",
      "execution_count": 19,
      "metadata": {
        "id": "44523546"
      },
      "outputs": [],
      "source": [
        "#fit GRU model on our training and validation set\n",
        "\n",
        "def train_and_plot(model, learning_rate = 0.002, epochs = 20):\n",
        "    np.random.seed(312)\n",
        "    tf.random.set_seed(312)\n",
        "\n",
        "    model.compile(loss=\"categorical_crossentropy\",\n",
        "                    optimizer=Adam(learning_rate = learning_rate),\n",
        "                    metrics = ['accuracy'])\n",
        "    early_stopping_cb = tf.keras.callbacks.EarlyStopping(patience = 10, restore_best_weights=True)\n",
        "    log = model.fit(train_dataset, epochs=epochs,\n",
        "                    validation_data = val_dataset,\n",
        "                    callbacks = [early_stopping_cb])\n",
        "    \n",
        "    plt.plot(log.history['loss'],label = \"training loss\",color='darkgreen')\n",
        "    plt.plot(log.history['val_loss'], label = \"validation loss\",color='darkblue')\n",
        "    plt.legend()\n",
        "    ax = plt.gca()\n",
        "    plt.show()\n",
        "\n",
        "    return model"
      ],
      "id": "44523546"
    },
    {
      "cell_type": "code",
      "execution_count": 20,
      "metadata": {
        "colab": {
          "base_uri": "https://localhost:8080/",
          "height": 1000
        },
        "id": "321265d8",
        "outputId": "782bb652-0978-48e2-a40c-9ada320927a2"
      },
      "outputs": [
        {
          "output_type": "stream",
          "name": "stdout",
          "text": [
            "Epoch 1/20\n",
            "140/140 [==============================] - 53s 339ms/step - loss: 1.3510 - accuracy: 0.3289 - val_loss: 1.2645 - val_accuracy: 0.3817\n",
            "Epoch 2/20\n",
            "140/140 [==============================] - 45s 321ms/step - loss: 1.2317 - accuracy: 0.4293 - val_loss: 1.1442 - val_accuracy: 0.4683\n",
            "Epoch 3/20\n",
            "140/140 [==============================] - 42s 299ms/step - loss: 1.0594 - accuracy: 0.5368 - val_loss: 0.9721 - val_accuracy: 0.5867\n",
            "Epoch 4/20\n",
            "140/140 [==============================] - 41s 292ms/step - loss: 0.8447 - accuracy: 0.6396 - val_loss: 0.7127 - val_accuracy: 0.6933\n",
            "Epoch 5/20\n",
            "140/140 [==============================] - 40s 286ms/step - loss: 0.6373 - accuracy: 0.7404 - val_loss: 0.5533 - val_accuracy: 0.7700\n",
            "Epoch 6/20\n",
            "140/140 [==============================] - 41s 295ms/step - loss: 0.5458 - accuracy: 0.7882 - val_loss: 0.5375 - val_accuracy: 0.7617\n",
            "Epoch 7/20\n",
            "140/140 [==============================] - 40s 289ms/step - loss: 0.4377 - accuracy: 0.8236 - val_loss: 0.4501 - val_accuracy: 0.7933\n",
            "Epoch 8/20\n",
            "140/140 [==============================] - 41s 293ms/step - loss: 0.3616 - accuracy: 0.8496 - val_loss: 0.4919 - val_accuracy: 0.7817\n",
            "Epoch 9/20\n",
            "140/140 [==============================] - 42s 303ms/step - loss: 0.3303 - accuracy: 0.8625 - val_loss: 0.4602 - val_accuracy: 0.7933\n",
            "Epoch 10/20\n",
            "140/140 [==============================] - 40s 287ms/step - loss: 0.2912 - accuracy: 0.8743 - val_loss: 0.3953 - val_accuracy: 0.8233\n",
            "Epoch 11/20\n",
            "140/140 [==============================] - 43s 304ms/step - loss: 0.2533 - accuracy: 0.8868 - val_loss: 0.4507 - val_accuracy: 0.8217\n",
            "Epoch 12/20\n",
            "140/140 [==============================] - 42s 301ms/step - loss: 0.2531 - accuracy: 0.8886 - val_loss: 0.4608 - val_accuracy: 0.7833\n",
            "Epoch 13/20\n",
            "140/140 [==============================] - 41s 294ms/step - loss: 0.2456 - accuracy: 0.8929 - val_loss: 0.4736 - val_accuracy: 0.8133\n",
            "Epoch 14/20\n",
            "140/140 [==============================] - 41s 296ms/step - loss: 0.2306 - accuracy: 0.8971 - val_loss: 0.4603 - val_accuracy: 0.8217\n",
            "Epoch 15/20\n",
            "140/140 [==============================] - 41s 293ms/step - loss: 0.2210 - accuracy: 0.8993 - val_loss: 0.4360 - val_accuracy: 0.8267\n",
            "Epoch 16/20\n",
            "140/140 [==============================] - 41s 290ms/step - loss: 0.2112 - accuracy: 0.9039 - val_loss: 0.4427 - val_accuracy: 0.8317\n",
            "Epoch 17/20\n",
            "140/140 [==============================] - 40s 286ms/step - loss: 0.2070 - accuracy: 0.9021 - val_loss: 0.5043 - val_accuracy: 0.8067\n",
            "Epoch 18/20\n",
            "140/140 [==============================] - 41s 291ms/step - loss: 0.2105 - accuracy: 0.9043 - val_loss: 0.4975 - val_accuracy: 0.8017\n",
            "Epoch 19/20\n",
            "140/140 [==============================] - 40s 286ms/step - loss: 0.1980 - accuracy: 0.9075 - val_loss: 0.5565 - val_accuracy: 0.7750\n",
            "Epoch 20/20\n",
            "140/140 [==============================] - 40s 287ms/step - loss: 0.2389 - accuracy: 0.8900 - val_loss: 0.4624 - val_accuracy: 0.8117\n"
          ]
        },
        {
          "output_type": "display_data",
          "data": {
            "text/plain": [
              "<Figure size 640x480 with 1 Axes>"
            ],
            "image/png": "[encoded data removed]"
          },
          "metadata": {}
        },
        {
          "output_type": "execute_result",
          "data": {
            "text/plain": [
              "<keras.engine.sequential.Sequential at 0x7f0f6d8c7d90>"
            ]
          },
          "metadata": {},
          "execution_count": 20
        }
      ],
      "source": [
        "train_and_plot(model_2)"
      ],
      "id": "321265d8"
    },
    {
      "cell_type": "code",
      "execution_count": 21,
      "metadata": {
        "colab": {
          "base_uri": "https://localhost:8080/"
        },
        "id": "ab786476",
        "outputId": "67802825-750f-4791-e322-aad97aefe1b2"
      },
      "outputs": [
        {
          "output_type": "stream",
          "name": "stdout",
          "text": [
            "30/30 [==============================] - 3s 108ms/step - loss: 0.3953 - accuracy: 0.8233\n",
            "[0.39528584480285645, 0.8233333230018616]\n"
          ]
        }
      ],
      "source": [
        "#evaluate the GRU model on the validation set\n",
        "\n",
        "GRU_valid_accuracy = model_2.evaluate(val_dataset)\n",
        "print(GRU_valid_accuracy)"
      ],
      "id": "ab786476"
    },
    {
      "cell_type": "code",
      "execution_count": 22,
      "metadata": {
        "colab": {
          "base_uri": "https://localhost:8080/"
        },
        "id": "9793a704",
        "outputId": "82570c1a-30fb-424b-9e74-830988602055"
      },
      "outputs": [
        {
          "output_type": "stream",
          "name": "stdout",
          "text": [
            "30/30 [==============================] - 4s 133ms/step - loss: 0.4264 - accuracy: 0.8200\n",
            "[0.42641589045524597, 0.8199999928474426]\n"
          ]
        }
      ],
      "source": [
        "#evaluate the GRU model on the test set\n",
        "GRU_test_accuracy = model_2.evaluate(test_dataset)\n",
        "print(GRU_test_accuracy)"
      ],
      "id": "9793a704"
    },
    {
      "cell_type": "code",
      "execution_count": 23,
      "metadata": {
        "colab": {
          "base_uri": "https://localhost:8080/"
        },
        "id": "8e643eb8",
        "outputId": "6a1bce94-0cd8-4fa6-ff91-b8942d7dabe6"
      },
      "outputs": [
        {
          "output_type": "stream",
          "name": "stdout",
          "text": [
            "Model: \"sequential_2\"\n",
            "_________________________________________________________________\n",
            " Layer (type)                Output Shape              Param #   \n",
            "=================================================================\n",
            " conv1d (Conv1D)             (None, None, 20)          180       \n",
            "                                                                 \n",
            " conv1d_1 (Conv1D)           (None, None, 20)          1620      \n",
            "                                                                 \n",
            " conv1d_2 (Conv1D)           (None, None, 20)          1620      \n",
            "                                                                 \n",
            " gru_2 (GRU)                 (None, None, 70)          19320     \n",
            "                                                                 \n",
            " gru_3 (GRU)                 (None, 140)               89040     \n",
            "                                                                 \n",
            " dense_5 (Dense)             (None, 4)                 564       \n",
            "                                                                 \n",
            "=================================================================\n",
            "Total params: 112,344\n",
            "Trainable params: 112,344\n",
            "Non-trainable params: 0\n",
            "_________________________________________________________________\n"
          ]
        }
      ],
      "source": [
        "#Model 3 - 3 Convolution 1D (no padding) layers + 2 GRU layers + 1 Dense layer (hybrid model using both sequence to sequence and sequence to vector approach)\n",
        "model_3 = Sequential([\n",
        "    Conv1D(filters=20,kernel_size=4, strides=2, padding=\"valid\",input_shape=[None, 2]), #20 filters across all the three convolutional layers\n",
        "    Conv1D(filters=20,kernel_size=4, strides=2, padding=\"valid\"),\n",
        "    Conv1D(filters=20,kernel_size=4, strides=2, padding=\"valid\"),\n",
        "    GRU(70, return_sequences = True,activation = \"tanh\"),\n",
        "    GRU(140, activation = 'tanh'),\n",
        "    Dense(4,activation='softmax')])\n",
        "\n",
        "model_3.summary()"
      ],
      "id": "8e643eb8"
    },
    {
      "cell_type": "code",
      "execution_count": 24,
      "metadata": {
        "id": "9670d436"
      },
      "outputs": [],
      "source": [
        "# Define train_plot_rnn for Convolutional 1D + GRU model \n",
        "\n",
        "def train_plot_cnn(model_cnn , learning_rate = 0.002, epochs = 20):\n",
        "    np.random.seed(312)\n",
        "    tf.random.set_seed(312)\n",
        "\n",
        "    model_cnn.compile(loss=\"categorical_crossentropy\",\n",
        "                  optimizer=Adam(learning_rate = learning_rate),\n",
        "                  metrics=[\"accuracy\"])\n",
        "    early_stopping_cb = tf.keras.callbacks.EarlyStopping(patience = 10, restore_best_weights=True)\n",
        "    log = model_cnn.fit(train_dataset, epochs=epochs,\n",
        "                        validation_data=val_dataset,\n",
        "                   callbacks = [early_stopping_cb])\n",
        "    \n",
        "    plt.plot(log.history['loss'],label = \"training loss\",color='darkgreen')\n",
        "    plt.plot(log.history['val_loss'], label = \"validation loss\",color='darkblue')\n",
        "    plt.legend()\n",
        "    ax = plt.gca()\n",
        "    ax.set_ylim([0, log.history['loss'][2]])\n",
        "    plt.show()\n",
        "    \n",
        "    return model_cnn"
      ],
      "id": "9670d436"
    },
    {
      "cell_type": "code",
      "execution_count": 25,
      "metadata": {
        "colab": {
          "base_uri": "https://localhost:8080/",
          "height": 933
        },
        "id": "87290222",
        "outputId": "36fad98a-7aaa-4327-b6cd-a56ec7273281"
      },
      "outputs": [
        {
          "output_type": "stream",
          "name": "stdout",
          "text": [
            "Epoch 1/20\n",
            "140/140 [==============================] - 18s 56ms/step - loss: 1.0461 - accuracy: 0.5354 - val_loss: 0.5895 - val_accuracy: 0.7817\n",
            "Epoch 2/20\n",
            "140/140 [==============================] - 7s 49ms/step - loss: 0.4640 - accuracy: 0.8086 - val_loss: 0.4129 - val_accuracy: 0.8317\n",
            "Epoch 3/20\n",
            "140/140 [==============================] - 6s 42ms/step - loss: 0.3630 - accuracy: 0.8529 - val_loss: 0.4394 - val_accuracy: 0.7700\n",
            "Epoch 4/20\n",
            "140/140 [==============================] - 7s 49ms/step - loss: 0.2757 - accuracy: 0.8789 - val_loss: 0.3621 - val_accuracy: 0.8233\n",
            "Epoch 5/20\n",
            "140/140 [==============================] - 6s 42ms/step - loss: 0.2548 - accuracy: 0.8893 - val_loss: 0.3769 - val_accuracy: 0.8400\n",
            "Epoch 6/20\n",
            "140/140 [==============================] - 7s 53ms/step - loss: 0.2367 - accuracy: 0.8975 - val_loss: 0.4035 - val_accuracy: 0.8083\n",
            "Epoch 7/20\n",
            "140/140 [==============================] - 6s 42ms/step - loss: 0.2239 - accuracy: 0.8950 - val_loss: 0.3756 - val_accuracy: 0.8333\n",
            "Epoch 8/20\n",
            "140/140 [==============================] - 7s 48ms/step - loss: 0.2188 - accuracy: 0.9007 - val_loss: 0.3812 - val_accuracy: 0.8367\n",
            "Epoch 9/20\n",
            "140/140 [==============================] - 6s 43ms/step - loss: 0.2015 - accuracy: 0.9054 - val_loss: 0.3775 - val_accuracy: 0.8567\n",
            "Epoch 10/20\n",
            "140/140 [==============================] - 6s 44ms/step - loss: 0.1883 - accuracy: 0.9129 - val_loss: 0.4444 - val_accuracy: 0.8067\n",
            "Epoch 11/20\n",
            "140/140 [==============================] - 7s 49ms/step - loss: 0.2036 - accuracy: 0.9057 - val_loss: 0.4000 - val_accuracy: 0.8367\n",
            "Epoch 12/20\n",
            "140/140 [==============================] - 6s 43ms/step - loss: 0.2022 - accuracy: 0.9068 - val_loss: 0.4885 - val_accuracy: 0.8083\n",
            "Epoch 13/20\n",
            "140/140 [==============================] - 6s 43ms/step - loss: 0.1953 - accuracy: 0.9104 - val_loss: 0.4341 - val_accuracy: 0.8400\n",
            "Epoch 14/20\n",
            "140/140 [==============================] - 7s 51ms/step - loss: 0.1749 - accuracy: 0.9200 - val_loss: 0.4294 - val_accuracy: 0.8150\n"
          ]
        },
        {
          "output_type": "display_data",
          "data": {
            "text/plain": [
              "<Figure size 640x480 with 1 Axes>"
            ],
            "image/png": "[encoded data removed]"
          },
          "metadata": {}
        },
        {
          "output_type": "execute_result",
          "data": {
            "text/plain": [
              "<keras.engine.sequential.Sequential at 0x7f0f6c9b1430>"
            ]
          },
          "metadata": {},
          "execution_count": 25
        }
      ],
      "source": [
        "# Run train_plot_rnn of Convolutional 1D + GRU model \n",
        "\n",
        "train_plot_cnn(model_3)"
      ],
      "id": "87290222"
    },
    {
      "cell_type": "code",
      "execution_count": 26,
      "metadata": {
        "colab": {
          "base_uri": "https://localhost:8080/"
        },
        "id": "7e0f00ec",
        "outputId": "456976a5-4084-4265-a007-89860b7c58ca"
      },
      "outputs": [
        {
          "output_type": "stream",
          "name": "stdout",
          "text": [
            "[0.3891808092594147, 0.7983333468437195]\n",
            "[0.36213335394859314, 0.8233333230018616]\n"
          ]
        }
      ],
      "source": [
        "# Evaluate Convolutional 1D + GRU + Dense model\n",
        "\n",
        "cd_gru_test_accuracy = model_3.evaluate(test_dataset,verbose=0)\n",
        "cd_gru_valid_accuracy = model_3.evaluate(val_dataset,verbose=0)\n",
        "print(cd_gru_test_accuracy)\n",
        "print(cd_gru_valid_accuracy)"
      ],
      "id": "7e0f00ec"
    },
    {
      "cell_type": "code",
      "execution_count": 27,
      "metadata": {
        "colab": {
          "base_uri": "https://localhost:8080/"
        },
        "id": "a82ac7ba",
        "outputId": "c9150d2a-72ee-48aa-80fc-a164b7c2db63"
      },
      "outputs": [
        {
          "output_type": "stream",
          "name": "stdout",
          "text": [
            "Model: \"sequential_3\"\n",
            "_________________________________________________________________\n",
            " Layer (type)                Output Shape              Param #   \n",
            "=================================================================\n",
            " conv1d_3 (Conv1D)           (None, None, 20)          140       \n",
            "                                                                 \n",
            " conv1d_4 (Conv1D)           (None, None, 20)          1220      \n",
            "                                                                 \n",
            " conv1d_5 (Conv1D)           (None, None, 20)          1220      \n",
            "                                                                 \n",
            " lstm (LSTM)                 (None, None, 64)          21760     \n",
            "                                                                 \n",
            " lstm_1 (LSTM)               (None, 64)                33024     \n",
            "                                                                 \n",
            " dense_6 (Dense)             (None, 4)                 260       \n",
            "                                                                 \n",
            "=================================================================\n",
            "Total params: 57,624\n",
            "Trainable params: 57,624\n",
            "Non-trainable params: 0\n",
            "_________________________________________________________________\n"
          ]
        }
      ],
      "source": [
        "#Model 4 - 3 Conv1D layers + 2 LSTM layers and a dense layer (hybrid model using both sequence to sequence and sequence to vector approach)\n",
        "\n",
        "model_4 = Sequential([\n",
        "    Conv1D(filters=20,kernel_size=3, strides=2, padding=\"valid\", input_shape=[None, 2]), #20 filters in each convolutional layer\n",
        "    Conv1D(filters=20,kernel_size=3, strides=2, padding=\"valid\"),\n",
        "    Conv1D(filters=20,kernel_size=3, strides=2, padding=\"valid\"),\n",
        "    LSTM(64, return_sequences = True,activation = \"tanh\"),\n",
        "    LSTM(64, activation = \"tanh\"),\n",
        "    Dense(4,activation='softmax')\n",
        "    ])\n",
        "model_4.summary()"
      ],
      "id": "a82ac7ba"
    },
    {
      "cell_type": "code",
      "execution_count": 28,
      "metadata": {
        "id": "c782e925"
      },
      "outputs": [],
      "source": [
        "# Define Conv1D + LSTM + Dense train_plot\n",
        "\n",
        "def train_plot_LSTM(model_lstm , learning_rate = 0.002, epochs = 20):\n",
        "    np.random.seed(312)\n",
        "    tf.random.set_seed(312)\n",
        "\n",
        "    model_lstm.compile(loss='categorical_crossentropy',\n",
        "                  optimizer=Adam(learning_rate = learning_rate),\n",
        "                  metrics=[\"accuracy\"])\n",
        "    early_stopping_cb = tf.keras.callbacks.EarlyStopping(patience = 10, restore_best_weights=True)\n",
        "    log = model_lstm.fit(train_dataset, epochs=epochs,\n",
        "                    validation_data=val_dataset,\n",
        "                    callbacks = [early_stopping_cb])\n",
        "    \n",
        "    plt.plot(log.history['loss'],label = \"training loss\",color='darkgreen')\n",
        "    plt.plot(log.history['val_loss'], label = \"validation loss\",color='darkblue')\n",
        "    plt.legend()\n",
        "    ax = plt.gca()\n",
        "    ax.set_ylim([0, log.history['loss'][2]])\n",
        "    plt.show()\n",
        "    \n",
        "    return model_lstm"
      ],
      "id": "c782e925"
    },
    {
      "cell_type": "code",
      "execution_count": 29,
      "metadata": {
        "colab": {
          "base_uri": "https://localhost:8080/",
          "height": 1000
        },
        "id": "059eb8b9",
        "outputId": "7b6efc71-cb98-4364-fa16-2d0d20ca0a77"
      },
      "outputs": [
        {
          "output_type": "stream",
          "name": "stdout",
          "text": [
            "Epoch 1/20\n",
            "140/140 [==============================] - 15s 62ms/step - loss: 1.3474 - accuracy: 0.3157 - val_loss: 1.1632 - val_accuracy: 0.4467\n",
            "Epoch 2/20\n",
            "140/140 [==============================] - 6s 39ms/step - loss: 1.0391 - accuracy: 0.5329 - val_loss: 0.8334 - val_accuracy: 0.6883\n",
            "Epoch 3/20\n",
            "140/140 [==============================] - 6s 44ms/step - loss: 0.6380 - accuracy: 0.7407 - val_loss: 0.5057 - val_accuracy: 0.8000\n",
            "Epoch 4/20\n",
            "140/140 [==============================] - 6s 43ms/step - loss: 0.4312 - accuracy: 0.8361 - val_loss: 0.4720 - val_accuracy: 0.7983\n",
            "Epoch 5/20\n",
            "140/140 [==============================] - 7s 48ms/step - loss: 0.3283 - accuracy: 0.8718 - val_loss: 0.3423 - val_accuracy: 0.8617\n",
            "Epoch 6/20\n",
            "140/140 [==============================] - 5s 39ms/step - loss: 0.2847 - accuracy: 0.8821 - val_loss: 0.4350 - val_accuracy: 0.8083\n",
            "Epoch 7/20\n",
            "140/140 [==============================] - 7s 48ms/step - loss: 0.2919 - accuracy: 0.8779 - val_loss: 0.3729 - val_accuracy: 0.8417\n",
            "Epoch 8/20\n",
            "140/140 [==============================] - 7s 52ms/step - loss: 0.2737 - accuracy: 0.8807 - val_loss: 0.3608 - val_accuracy: 0.8450\n",
            "Epoch 9/20\n",
            "140/140 [==============================] - 7s 49ms/step - loss: 0.2784 - accuracy: 0.8782 - val_loss: 0.3196 - val_accuracy: 0.8667\n",
            "Epoch 10/20\n",
            "140/140 [==============================] - 5s 38ms/step - loss: 0.2426 - accuracy: 0.8918 - val_loss: 0.4187 - val_accuracy: 0.8150\n",
            "Epoch 11/20\n",
            "140/140 [==============================] - 7s 49ms/step - loss: 0.2613 - accuracy: 0.8793 - val_loss: 0.3999 - val_accuracy: 0.8317\n",
            "Epoch 12/20\n",
            "140/140 [==============================] - 5s 38ms/step - loss: 0.2404 - accuracy: 0.8889 - val_loss: 0.3511 - val_accuracy: 0.8600\n",
            "Epoch 13/20\n",
            "140/140 [==============================] - 7s 48ms/step - loss: 0.2218 - accuracy: 0.8979 - val_loss: 0.3639 - val_accuracy: 0.8483\n",
            "Epoch 14/20\n",
            "140/140 [==============================] - 6s 40ms/step - loss: 0.2381 - accuracy: 0.8904 - val_loss: 0.3451 - val_accuracy: 0.8150\n",
            "Epoch 15/20\n",
            "140/140 [==============================] - 6s 40ms/step - loss: 0.2110 - accuracy: 0.9018 - val_loss: 0.3879 - val_accuracy: 0.8517\n",
            "Epoch 16/20\n",
            "140/140 [==============================] - 7s 53ms/step - loss: 0.1909 - accuracy: 0.9100 - val_loss: 0.4304 - val_accuracy: 0.8283\n",
            "Epoch 17/20\n",
            "140/140 [==============================] - 6s 46ms/step - loss: 0.1866 - accuracy: 0.9104 - val_loss: 0.3842 - val_accuracy: 0.8367\n",
            "Epoch 18/20\n",
            "140/140 [==============================] - 6s 42ms/step - loss: 0.1783 - accuracy: 0.9125 - val_loss: 0.3567 - val_accuracy: 0.8400\n",
            "Epoch 19/20\n",
            "140/140 [==============================] - 5s 38ms/step - loss: 0.1743 - accuracy: 0.9157 - val_loss: 0.4689 - val_accuracy: 0.8250\n"
          ]
        },
        {
          "output_type": "display_data",
          "data": {
            "text/plain": [
              "<Figure size 640x480 with 1 Axes>"
            ],
            "image/png": "[encoded data removed]"
          },
          "metadata": {}
        },
        {
          "output_type": "execute_result",
          "data": {
            "text/plain": [
              "<keras.engine.sequential.Sequential at 0x7f0f58cb7190>"
            ]
          },
          "metadata": {},
          "execution_count": 29
        }
      ],
      "source": [
        "# Run train_plot_LSTM\n",
        "\n",
        "train_plot_LSTM(model_4)"
      ],
      "id": "059eb8b9"
    },
    {
      "cell_type": "code",
      "execution_count": 30,
      "metadata": {
        "colab": {
          "base_uri": "https://localhost:8080/"
        },
        "id": "308de062",
        "outputId": "b1224894-6773-4d85-9b87-d2c11a20880d"
      },
      "outputs": [
        {
          "output_type": "stream",
          "name": "stdout",
          "text": [
            "[0.35961437225341797, 0.8516666889190674]\n",
            "[0.31961312890052795, 0.8666666746139526]\n"
          ]
        }
      ],
      "source": [
        "# Evaluate on Conv1D + LSTM model\n",
        "\n",
        "lstm_test_accuracy = model_4.evaluate(test_dataset,verbose=0)\n",
        "lstm_valid_accuracy = model_4.evaluate(val_dataset,verbose=0)\n",
        "print(lstm_test_accuracy)\n",
        "print(lstm_valid_accuracy)"
      ],
      "id": "308de062"
    },
    {
      "cell_type": "code",
      "execution_count": 31,
      "metadata": {
        "id": "sB0VPAieY60F",
        "colab": {
          "base_uri": "https://localhost:8080/"
        },
        "outputId": "40f04fe4-0a18-4115-e905-15f96c8e73ff"
      },
      "outputs": [
        {
          "output_type": "stream",
          "name": "stdout",
          "text": [
            "The validation set accuracy of Baseline model is 0.777\n",
            "The validation loss in Baseline model is 0.446\n",
            "----------------------\n",
            "The validation set accuracy of GRU model is 0.823\n",
            "The validation loss in GRU model is 0.395\n",
            "----------------------\n",
            "The validation set accuracy of Conv1D + GRU model is 0.823\n",
            "The validation loss in Conv1D + GRU model is 0.362\n",
            "----------------------\n",
            "The validation set accuracy of Conv1D + LSTM model is 0.867\n",
            "The validation loss in Conv 1D + LSTM model is 0.32\n"
          ]
        }
      ],
      "source": [
        "#compare the results of Model 1, 2, 3 and 4\n",
        "\n",
        "print(\"The validation set accuracy of Baseline model is\", round(base_valid_accuracy[1], 3))\n",
        "print(\"The validation loss in Baseline model is\", round(base_valid_accuracy[0], 3))\n",
        "print(\"----------------------\")\n",
        "print(\"The validation set accuracy of GRU model is\", round(GRU_valid_accuracy[1], 3))\n",
        "print(\"The validation loss in GRU model is\", round(GRU_valid_accuracy[0], 3))\n",
        "print(\"----------------------\")\n",
        "print(\"The validation set accuracy of Conv1D + GRU model is\", round(cd_gru_valid_accuracy[1], 3))\n",
        "print(\"The validation loss in Conv1D + GRU model is\", round(cd_gru_valid_accuracy[0], 3))\n",
        "print(\"----------------------\")\n",
        "print(\"The validation set accuracy of Conv1D + LSTM model is\", round(lstm_valid_accuracy[1], 3))\n",
        "print(\"The validation loss in Conv 1D + LSTM model is\", round(lstm_valid_accuracy[0], 3))"
      ],
      "id": "sB0VPAieY60F"
    },
    {
      "cell_type": "markdown",
      "metadata": {
        "id": "0571a446"
      },
      "source": [
        "#### Q6. Convert the data for use with a CNN. In particular, following the approach outlined in Scenario 2 (section 5.3 of the paper) and summarized in Figure 18, convert the two time series corresponding to one wind turbine run into a single (100,100,1) array (i.e., a grayscale image). "
      ],
      "id": "0571a446"
    },
    {
      "cell_type": "code",
      "execution_count": 32,
      "metadata": {
        "id": "f039f100"
      },
      "outputs": [],
      "source": [
        "## convert time-series to a grey-scale image\n",
        "num_classes = 4\n",
        "img_rows, img_cols, img_channels = 100, 100, 1 # input image dimensions\n",
        "\n",
        "# convert data type\n",
        "x_train = X_train.astype('float32')\n",
        "x_test = X_test.astype('float32')\n",
        "x_valid = X_valid.astype('float32')\n",
        "\n",
        "Y_train = y_train\n",
        "Y_test = y_test\n",
        "Y_valid = y_valid"
      ],
      "id": "f039f100"
    },
    {
      "cell_type": "code",
      "execution_count": 33,
      "metadata": {
        "id": "3d6a09a6",
        "colab": {
          "base_uri": "https://localhost:8080/"
        },
        "outputId": "b8a6bb08-7e0a-49d4-99e5-06eaeeb2b7c0"
      },
      "outputs": [
        {
          "output_type": "stream",
          "name": "stdout",
          "text": [
            "x_train shape: (100, 100, 1)\n",
            "Y_train shape: (4,)\n"
          ]
        }
      ],
      "source": [
        "# convert the 2 time series into a single array\n",
        "\n",
        "if K.image_data_format() == 'channels_first':\n",
        "    x_train = x_train.reshape(x_train.shape[0], img_channels, img_rows, img_cols)\n",
        "    x_test = x_test.reshape(x_test.shape[0], img_channels, img_rows, img_cols)\n",
        "    x_valid = x_valid.reshape(x_valid.shape[0], img_channels, img_rows, img_cols)\n",
        "    input_shape = (img_channels, img_rows, img_cols)\n",
        "else:\n",
        "    x_train = x_train.reshape(x_train.shape[0], img_rows, img_cols, img_channels)\n",
        "    x_test = x_test.reshape(x_test.shape[0], img_rows, img_cols, img_channels)\n",
        "    x_valid = x_valid.reshape(x_valid.shape[0], img_rows, img_cols, img_channels)\n",
        "    input_shape = (img_rows, img_cols, img_channels)\n",
        "\n",
        "print('x_train shape:', x_train[0].shape)\n",
        "print('Y_train shape:', Y_train[0].shape)\n"
      ],
      "id": "3d6a09a6"
    },
    {
      "cell_type": "code",
      "execution_count": 34,
      "metadata": {
        "id": "8512a27c",
        "colab": {
          "base_uri": "https://localhost:8080/",
          "height": 449
        },
        "outputId": "3199bc7a-6631-47c8-c0a2-30dacced9c7e"
      },
      "outputs": [
        {
          "output_type": "display_data",
          "data": {
            "text/plain": [
              "<Figure size 500x500 with 1 Axes>"
            ],
            "image/png": "[encoded data removed]"
          },
          "metadata": {}
        }
      ],
      "source": [
        "# Plot the figure\n",
        "\n",
        "plt.figure(figsize=(5, 5))\n",
        "plt.imshow(x_train[0].astype(int),cmap=\"Greys_r\")\n",
        "plt.show()"
      ],
      "id": "8512a27c"
    },
    {
      "cell_type": "markdown",
      "metadata": {
        "id": "20e3efa6"
      },
      "source": [
        "#### Q7. In TensorFlow, replicate the CNN with three convolutional layers displayed in Figure 12 and train it on your data. Make sure to record your final validation set accuracy."
      ],
      "id": "20e3efa6"
    },
    {
      "cell_type": "code",
      "execution_count": 35,
      "metadata": {
        "id": "e50619ee",
        "colab": {
          "base_uri": "https://localhost:8080/"
        },
        "outputId": "791df3d4-34f5-4ca5-ebe6-d2a416292c12"
      },
      "outputs": [
        {
          "output_type": "stream",
          "name": "stdout",
          "text": [
            "Model: \"sequential_4\"\n",
            "_________________________________________________________________\n",
            " Layer (type)                Output Shape              Param #   \n",
            "=================================================================\n",
            " conv2d (Conv2D)             (None, 50, 50, 32)        320       \n",
            "                                                                 \n",
            " conv2d_1 (Conv2D)           (None, 25, 25, 32)        9248      \n",
            "                                                                 \n",
            " dropout (Dropout)           (None, 25, 25, 32)        0         \n",
            "                                                                 \n",
            " conv2d_2 (Conv2D)           (None, 13, 13, 16)        4624      \n",
            "                                                                 \n",
            " max_pooling2d (MaxPooling2D  (None, 4, 4, 16)         0         \n",
            " )                                                               \n",
            "                                                                 \n",
            " flatten_1 (Flatten)         (None, 256)               0         \n",
            "                                                                 \n",
            " dense_7 (Dense)             (None, 4)                 1028      \n",
            "                                                                 \n",
            "=================================================================\n",
            "Total params: 15,220\n",
            "Trainable params: 15,220\n",
            "Non-trainable params: 0\n",
            "_________________________________________________________________\n"
          ]
        }
      ],
      "source": [
        "#Model 5 - Replicating figure 12 which has a CNN architecture of 3 convolutional layers, 1 dropout layer, 1 max pooling and 1 Fully Connected layer\n",
        "\n",
        "model_5 = Sequential([\n",
        "    Conv2D(32, kernel_size=(3, 3),strides=(2,2),padding='same',input_shape=input_shape),\n",
        "    Conv2D(32, kernel_size=(3, 3),strides=(2,2),padding='same'),\n",
        "    Dropout(0.2),\n",
        "    Conv2D(16, kernel_size=(3, 3),strides=(2,2),padding='same',activation='relu'),\n",
        "    MaxPooling2D(pool_size=(3, 3)),\n",
        "    Flatten(),\n",
        "    Dense(num_classes, activation='softmax')])\n",
        "\n",
        "model_5.compile(loss='categorical_crossentropy',\n",
        "              optimizer=tf.keras.optimizers.Adam(learning_rate=0.002),\n",
        "              metrics=['accuracy'])\n",
        "model_5.summary()"
      ],
      "id": "e50619ee"
    },
    {
      "cell_type": "code",
      "execution_count": 36,
      "metadata": {
        "id": "ffb6261a"
      },
      "outputs": [],
      "source": [
        "#fit the CNN model on our training and validation data\n",
        "\n",
        "def train_and_plot2(model_cnn1, learning_rate = 0.002, epochs = 20):\n",
        "    np.random.seed(312)\n",
        "    tf.random.set_seed(312)\n",
        "    model_cnn1.compile(loss='categorical_crossentropy',\n",
        "              optimizer=tf.keras.optimizers.Adam(learning_rate=0.001),\n",
        "              metrics=['accuracy'])\n",
        "    early_stopping_cb = tf.keras.callbacks.EarlyStopping(patience = 10, restore_best_weights=True)\n",
        "    log = model_cnn1.fit(x_train,Y_train,batch_size=20, \n",
        "                    validation_data = (x_valid,Y_valid),\n",
        "                    epochs=epochs,callbacks = [early_stopping_cb])\n",
        "    plt.plot(log.history['loss'],label = \"training loss\",color='darkgreen')\n",
        "    plt.plot(log.history['val_loss'], label = \"validation loss\",color='darkblue')\n",
        "    plt.legend()\n",
        "    ax = plt.gca()\n",
        "    ax.set_ylim([0, log.history['loss'][2]])\n",
        "    plt.show()\n",
        "    return model_cnn1"
      ],
      "id": "ffb6261a"
    },
    {
      "cell_type": "code",
      "execution_count": 37,
      "metadata": {
        "id": "93e4af6b",
        "colab": {
          "base_uri": "https://localhost:8080/",
          "height": 1000
        },
        "outputId": "9c13e06f-7e75-45cb-8b7d-1ef69a266b35"
      },
      "outputs": [
        {
          "output_type": "stream",
          "name": "stdout",
          "text": [
            "Epoch 1/20\n",
            "140/140 [==============================] - 4s 8ms/step - loss: 5.9792 - accuracy: 0.2650 - val_loss: 1.3852 - val_accuracy: 0.2700\n",
            "Epoch 2/20\n",
            "140/140 [==============================] - 1s 6ms/step - loss: 1.3397 - accuracy: 0.2879 - val_loss: 1.2429 - val_accuracy: 0.3917\n",
            "Epoch 3/20\n",
            "140/140 [==============================] - 1s 5ms/step - loss: 1.1920 - accuracy: 0.3975 - val_loss: 1.1637 - val_accuracy: 0.4367\n",
            "Epoch 4/20\n",
            "140/140 [==============================] - 1s 5ms/step - loss: 1.1448 - accuracy: 0.4354 - val_loss: 1.0905 - val_accuracy: 0.4367\n",
            "Epoch 5/20\n",
            "140/140 [==============================] - 1s 6ms/step - loss: 1.0983 - accuracy: 0.4618 - val_loss: 1.0686 - val_accuracy: 0.4750\n",
            "Epoch 6/20\n",
            "140/140 [==============================] - 1s 6ms/step - loss: 1.0716 - accuracy: 0.4689 - val_loss: 1.0939 - val_accuracy: 0.4867\n",
            "Epoch 7/20\n",
            "140/140 [==============================] - 1s 5ms/step - loss: 1.0248 - accuracy: 0.4989 - val_loss: 0.9868 - val_accuracy: 0.5600\n",
            "Epoch 8/20\n",
            "140/140 [==============================] - 1s 5ms/step - loss: 0.8199 - accuracy: 0.6575 - val_loss: 0.4749 - val_accuracy: 0.8567\n",
            "Epoch 9/20\n",
            "140/140 [==============================] - 1s 5ms/step - loss: 0.4793 - accuracy: 0.8132 - val_loss: 0.3392 - val_accuracy: 0.8917\n",
            "Epoch 10/20\n",
            "140/140 [==============================] - 1s 5ms/step - loss: 0.3510 - accuracy: 0.8725 - val_loss: 0.2722 - val_accuracy: 0.8967\n",
            "Epoch 11/20\n",
            "140/140 [==============================] - 1s 5ms/step - loss: 0.3013 - accuracy: 0.8811 - val_loss: 0.2375 - val_accuracy: 0.8983\n",
            "Epoch 12/20\n",
            "140/140 [==============================] - 1s 6ms/step - loss: 0.3012 - accuracy: 0.8854 - val_loss: 0.2396 - val_accuracy: 0.9000\n",
            "Epoch 13/20\n",
            "140/140 [==============================] - 1s 7ms/step - loss: 0.2981 - accuracy: 0.8879 - val_loss: 0.2655 - val_accuracy: 0.8933\n",
            "Epoch 14/20\n",
            "140/140 [==============================] - 1s 7ms/step - loss: 0.2688 - accuracy: 0.8861 - val_loss: 0.2485 - val_accuracy: 0.9000\n",
            "Epoch 15/20\n",
            "140/140 [==============================] - 1s 8ms/step - loss: 0.2769 - accuracy: 0.8907 - val_loss: 0.2375 - val_accuracy: 0.9000\n",
            "Epoch 16/20\n",
            "140/140 [==============================] - 1s 7ms/step - loss: 0.2647 - accuracy: 0.8882 - val_loss: 0.2799 - val_accuracy: 0.8917\n",
            "Epoch 17/20\n",
            "140/140 [==============================] - 1s 6ms/step - loss: 0.2735 - accuracy: 0.8914 - val_loss: 0.2606 - val_accuracy: 0.8950\n",
            "Epoch 18/20\n",
            "140/140 [==============================] - 1s 6ms/step - loss: 0.2496 - accuracy: 0.8971 - val_loss: 0.2360 - val_accuracy: 0.9000\n",
            "Epoch 19/20\n",
            "140/140 [==============================] - 1s 6ms/step - loss: 0.2561 - accuracy: 0.8964 - val_loss: 0.2669 - val_accuracy: 0.8917\n",
            "Epoch 20/20\n",
            "140/140 [==============================] - 1s 6ms/step - loss: 0.2555 - accuracy: 0.8939 - val_loss: 0.2257 - val_accuracy: 0.9000\n"
          ]
        },
        {
          "output_type": "display_data",
          "data": {
            "text/plain": [
              "<Figure size 640x480 with 1 Axes>"
            ],
            "image/png": "[encoded data removed]"
          },
          "metadata": {}
        },
        {
          "output_type": "execute_result",
          "data": {
            "text/plain": [
              "<keras.engine.sequential.Sequential at 0x7f0f56d40fa0>"
            ]
          },
          "metadata": {},
          "execution_count": 37
        }
      ],
      "source": [
        "train_and_plot2(model_5)"
      ],
      "id": "93e4af6b"
    },
    {
      "cell_type": "code",
      "execution_count": 38,
      "metadata": {
        "id": "f9c9e028",
        "colab": {
          "base_uri": "https://localhost:8080/"
        },
        "outputId": "38f8f0a2-bdc1-445d-832c-db9139c4e5f1"
      },
      "outputs": [
        {
          "output_type": "stream",
          "name": "stdout",
          "text": [
            "19/19 [==============================] - 0s 9ms/step - loss: 0.2257 - accuracy: 0.9000\n"
          ]
        }
      ],
      "source": [
        "#evaluate the model on the validation set\n",
        "\n",
        "model_5_validation = model_5.evaluate(x_valid,Y_valid)"
      ],
      "id": "f9c9e028"
    },
    {
      "cell_type": "code",
      "execution_count": 39,
      "metadata": {
        "id": "b50a4707",
        "colab": {
          "base_uri": "https://localhost:8080/"
        },
        "outputId": "6b6e9ba2-d912-458c-e274-e4fac4d79fe1"
      },
      "outputs": [
        {
          "output_type": "stream",
          "name": "stdout",
          "text": [
            "19/19 [==============================] - 0s 4ms/step - loss: 0.2830 - accuracy: 0.8933\n"
          ]
        }
      ],
      "source": [
        "#evaluate the model on the test dataset\n",
        "\n",
        "model_5_test = model_5.evaluate(x_test,Y_test)"
      ],
      "id": "b50a4707"
    },
    {
      "cell_type": "markdown",
      "metadata": {
        "id": "1910f422"
      },
      "source": [
        "#### Q8. Can you do better by adjusting the CNN? Be creative in your design choices (you might also consider pre-trained CNN architectures) and record your final validation set accuracy."
      ],
      "id": "1910f422"
    },
    {
      "cell_type": "code",
      "execution_count": 40,
      "metadata": {
        "id": "d01cabda",
        "colab": {
          "base_uri": "https://localhost:8080/"
        },
        "outputId": "cfc1ce43-ee5c-47ad-fff7-bde4f5873545"
      },
      "outputs": [
        {
          "output_type": "stream",
          "name": "stdout",
          "text": [
            "(2800, 100, 100, 1) (600, 100, 100, 1) (600, 100, 100, 1)\n"
          ]
        }
      ],
      "source": [
        "#Model 6 - Using pretrained MobileNet model\n",
        "\n",
        "# CNN model using pre-trained MobileNet model\n",
        "from tensorflow.keras.applications.mobilenet import MobileNet, preprocess_input\n",
        "from pandas._libs.lib import fast_unique_multiple_list_gen\n",
        "\n",
        "# pre-process the training and test data for using in the MobileNet architecture\n",
        "\n",
        "x_preprocess_train = preprocess_input(x_train.copy())\n",
        "x_preprocess_test = preprocess_input(x_test.copy())\n",
        "x_preprocess_valid = preprocess_input(x_valid.copy())\n",
        "print(x_preprocess_train.shape, x_preprocess_test.shape,x_preprocess_valid.shape )"
      ],
      "id": "d01cabda"
    },
    {
      "cell_type": "code",
      "execution_count": 41,
      "metadata": {
        "id": "e5526318",
        "colab": {
          "base_uri": "https://localhost:8080/"
        },
        "outputId": "f8eb7e0f-5d12-491a-b1a4-feeea1fcabd0"
      },
      "outputs": [
        {
          "output_type": "stream",
          "name": "stderr",
          "text": [
            "WARNING:tensorflow:`input_shape` is undefined or non-square, or `rows` is not in [128, 160, 192, 224]. Weights for input shape (224, 224) will be loaded as the default.\n"
          ]
        },
        {
          "output_type": "stream",
          "name": "stdout",
          "text": [
            "Downloading data from https://storage.googleapis.com/tensorflow/keras-applications/mobilenet/mobilenet_1_0_224_tf_no_top.h5\n",
            "17225924/17225924 [==============================] - 0s 0us/step\n",
            "Model: \"sequential_5\"\n",
            "_________________________________________________________________\n",
            " Layer (type)                Output Shape              Param #   \n",
            "=================================================================\n",
            " conv2d_3 (Conv2D)           (None, 100, 100, 3)       30        \n",
            "                                                                 \n",
            " mobilenet_1.00_224 (Functio  (None, 3, 3, 1024)       3228864   \n",
            " nal)                                                            \n",
            "                                                                 \n",
            " global_average_pooling2d (G  (None, 1024)             0         \n",
            " lobalAveragePooling2D)                                          \n",
            "                                                                 \n",
            " dense_8 (Dense)             (None, 64)                65600     \n",
            "                                                                 \n",
            " dense_9 (Dense)             (None, 4)                 260       \n",
            "                                                                 \n",
            "=================================================================\n",
            "Total params: 3,294,754\n",
            "Trainable params: 65,890\n",
            "Non-trainable params: 3,228,864\n",
            "_________________________________________________________________\n"
          ]
        }
      ],
      "source": [
        "mobilenet = MobileNet(weights='imagenet', include_top=False, input_shape = (100,100,3))\n",
        "mobilenet.trainable = False\n",
        "\n",
        "# Un-Freeze the first 60 layers in the base model\n",
        "\n",
        "for layer in mobilenet.layers[:60]:\n",
        "    layer.trainable = True\n",
        "\n",
        "model_6 = Sequential([\n",
        "    Conv2D(3, kernel_size=(3, 3),strides=(1,1),padding='same',input_shape=input_shape),\n",
        "    mobilenet,\n",
        "    GlobalAveragePooling2D(),\n",
        "    Dense(64, activation='relu'),\n",
        "    Dense(num_classes, activation='softmax')])\n",
        "model_6.compile(loss='categorical_crossentropy',\n",
        "              optimizer=tf.keras.optimizers.Adam(learning_rate=0.0001),\n",
        "              metrics=['accuracy'])\n",
        "model_6.summary()"
      ],
      "id": "e5526318"
    },
    {
      "cell_type": "code",
      "execution_count": 42,
      "metadata": {
        "id": "8e3ea8e9",
        "colab": {
          "base_uri": "https://localhost:8080/",
          "height": 1000
        },
        "outputId": "07d595d3-3f50-46bf-a806-41a411d6bbf0"
      },
      "outputs": [
        {
          "output_type": "stream",
          "name": "stdout",
          "text": [
            "Epoch 1/20\n",
            "140/140 [==============================] - 7s 25ms/step - loss: 1.3793 - accuracy: 0.4089 - val_loss: 1.4624 - val_accuracy: 0.2600\n",
            "Epoch 2/20\n",
            "140/140 [==============================] - 2s 17ms/step - loss: 0.8607 - accuracy: 0.6546 - val_loss: 1.1161 - val_accuracy: 0.5083\n",
            "Epoch 3/20\n",
            "140/140 [==============================] - 2s 17ms/step - loss: 0.6437 - accuracy: 0.7686 - val_loss: 0.6607 - val_accuracy: 0.7550\n",
            "Epoch 4/20\n",
            "140/140 [==============================] - 2s 18ms/step - loss: 0.5323 - accuracy: 0.8154 - val_loss: 0.5217 - val_accuracy: 0.8000\n",
            "Epoch 5/20\n",
            "140/140 [==============================] - 3s 19ms/step - loss: 0.4539 - accuracy: 0.8404 - val_loss: 0.4688 - val_accuracy: 0.8250\n",
            "Epoch 6/20\n",
            "140/140 [==============================] - 2s 18ms/step - loss: 0.4009 - accuracy: 0.8661 - val_loss: 0.4554 - val_accuracy: 0.8267\n",
            "Epoch 7/20\n",
            "140/140 [==============================] - 3s 18ms/step - loss: 0.3643 - accuracy: 0.8757 - val_loss: 0.4199 - val_accuracy: 0.8433\n",
            "Epoch 8/20\n",
            "140/140 [==============================] - 2s 16ms/step - loss: 0.3391 - accuracy: 0.8804 - val_loss: 0.4051 - val_accuracy: 0.8517\n",
            "Epoch 9/20\n",
            "140/140 [==============================] - 2s 16ms/step - loss: 0.3219 - accuracy: 0.8868 - val_loss: 0.3978 - val_accuracy: 0.8483\n",
            "Epoch 10/20\n",
            "140/140 [==============================] - 2s 17ms/step - loss: 0.2962 - accuracy: 0.8964 - val_loss: 0.3883 - val_accuracy: 0.8400\n",
            "Epoch 11/20\n",
            "140/140 [==============================] - 2s 16ms/step - loss: 0.2762 - accuracy: 0.9036 - val_loss: 0.3753 - val_accuracy: 0.8550\n",
            "Epoch 12/20\n",
            "140/140 [==============================] - 2s 18ms/step - loss: 0.2665 - accuracy: 0.9061 - val_loss: 0.3690 - val_accuracy: 0.8667\n",
            "Epoch 13/20\n",
            "140/140 [==============================] - 3s 18ms/step - loss: 0.2494 - accuracy: 0.9111 - val_loss: 0.3598 - val_accuracy: 0.8633\n",
            "Epoch 14/20\n",
            "140/140 [==============================] - 2s 17ms/step - loss: 0.2352 - accuracy: 0.9086 - val_loss: 0.3621 - val_accuracy: 0.8583\n",
            "Epoch 15/20\n",
            "140/140 [==============================] - 2s 17ms/step - loss: 0.2265 - accuracy: 0.9157 - val_loss: 0.3596 - val_accuracy: 0.8550\n",
            "Epoch 16/20\n",
            "140/140 [==============================] - 2s 15ms/step - loss: 0.2157 - accuracy: 0.9271 - val_loss: 0.3611 - val_accuracy: 0.8600\n",
            "Epoch 17/20\n",
            "140/140 [==============================] - 2s 17ms/step - loss: 0.2038 - accuracy: 0.9296 - val_loss: 0.3484 - val_accuracy: 0.8650\n",
            "Epoch 18/20\n",
            "140/140 [==============================] - 2s 17ms/step - loss: 0.1992 - accuracy: 0.9307 - val_loss: 0.3533 - val_accuracy: 0.8567\n",
            "Epoch 19/20\n",
            "140/140 [==============================] - 3s 18ms/step - loss: 0.1909 - accuracy: 0.9325 - val_loss: 0.3453 - val_accuracy: 0.8617\n",
            "Epoch 20/20\n",
            "140/140 [==============================] - 2s 16ms/step - loss: 0.1786 - accuracy: 0.9389 - val_loss: 0.3431 - val_accuracy: 0.8600\n"
          ]
        },
        {
          "output_type": "display_data",
          "data": {
            "text/plain": [
              "<Figure size 640x480 with 1 Axes>"
            ],
            "image/png": "[encoded data removed]"
          },
          "metadata": {}
        }
      ],
      "source": [
        "#fit the mobilenet model on our training and validation data\n",
        "early_stopping_cb = tf.keras.callbacks.EarlyStopping(patience = 10, restore_best_weights=True)\n",
        "log_2 = model_6.fit(x_preprocess_train,Y_train,\n",
        "                    validation_data = (x_preprocess_valid,Y_valid),\n",
        "                    batch_size = 20,\n",
        "                    epochs=20,callbacks = [early_stopping_cb])\n",
        "\n",
        "plt.plot(log_2.history['loss'],label = \"training loss\",color='darkgreen')\n",
        "plt.plot(log_2.history['val_loss'], label = \"validation loss\",color='darkblue')\n",
        "plt.legend()\n",
        "ax = plt.gca()\n",
        "plt.show()"
      ],
      "id": "8e3ea8e9"
    },
    {
      "cell_type": "code",
      "execution_count": 43,
      "metadata": {
        "id": "929e3853",
        "colab": {
          "base_uri": "https://localhost:8080/"
        },
        "outputId": "7b67f407-406f-418c-9265-8eef247e7491"
      },
      "outputs": [
        {
          "output_type": "stream",
          "name": "stdout",
          "text": [
            "19/19 [==============================] - 1s 25ms/step - loss: 0.3431 - accuracy: 0.8600\n"
          ]
        }
      ],
      "source": [
        "#evaluate the model on the validation set\n",
        "\n",
        "model_6_validation = model_6.evaluate(x_preprocess_valid, Y_valid)"
      ],
      "id": "929e3853"
    },
    {
      "cell_type": "code",
      "execution_count": 44,
      "metadata": {
        "id": "e26d8a39",
        "colab": {
          "base_uri": "https://localhost:8080/"
        },
        "outputId": "f23676aa-9f28-4280-f45a-2c0d9a9643a8"
      },
      "outputs": [
        {
          "output_type": "stream",
          "name": "stdout",
          "text": [
            "19/19 [==============================] - 0s 12ms/step - loss: 0.3475 - accuracy: 0.8667\n"
          ]
        }
      ],
      "source": [
        "#evaluate the model on the test set\n",
        "\n",
        "model_6_test = model_6.evaluate(x_preprocess_test, y_test)"
      ],
      "id": "e26d8a39"
    },
    {
      "cell_type": "code",
      "execution_count": 45,
      "metadata": {
        "id": "f4b28c38",
        "colab": {
          "base_uri": "https://localhost:8080/"
        },
        "outputId": "b98d9e00-7d13-47ca-834e-1ae09ffeb344"
      },
      "outputs": [
        {
          "output_type": "stream",
          "name": "stdout",
          "text": [
            "Downloading data from https://storage.googleapis.com/tensorflow/keras-applications/inception_v3/inception_v3_weights_tf_dim_ordering_tf_kernels_notop.h5\n",
            "87910968/87910968 [==============================] - 1s 0us/step\n",
            "Model: \"sequential_6\"\n",
            "_________________________________________________________________\n",
            " Layer (type)                Output Shape              Param #   \n",
            "=================================================================\n",
            " conv2d_98 (Conv2D)          (None, 100, 100, 3)       30        \n",
            "                                                                 \n",
            " inception_v3 (Functional)   (None, 1, 1, 2048)        21802784  \n",
            "                                                                 \n",
            " global_average_pooling2d_1   (None, 2048)             0         \n",
            " (GlobalAveragePooling2D)                                        \n",
            "                                                                 \n",
            " dense_10 (Dense)            (None, 64)                131136    \n",
            "                                                                 \n",
            " dense_11 (Dense)            (None, 4)                 260       \n",
            "                                                                 \n",
            "=================================================================\n",
            "Total params: 21,934,210\n",
            "Trainable params: 131,426\n",
            "Non-trainable params: 21,802,784\n",
            "_________________________________________________________________\n"
          ]
        }
      ],
      "source": [
        "#Model 7 - Using pretrained InceptionV3 model\n",
        "\n",
        "# CNN model with pretrained InceptionV3 model\n",
        "from tensorflow.keras.applications.inception_v3 import InceptionV3\n",
        "from tensorflow.keras.preprocessing import image\n",
        "from tensorflow.keras.models import Model\n",
        "from tensorflow.keras.layers import Dense, GlobalAveragePooling2D\n",
        "\n",
        "# create the base pre-trained model\n",
        "InceptionV3 = InceptionV3(weights='imagenet', include_top=False, input_shape = (100,100,3))\n",
        "InceptionV3.trainable = False\n",
        "\n",
        "model_7 = Sequential([\n",
        "    Conv2D(3, kernel_size=(3, 3),strides=(1,1),padding='same',input_shape=input_shape),\n",
        "    InceptionV3,\n",
        "    GlobalAveragePooling2D(),\n",
        "    Dense(64, activation='relu'),\n",
        "    Dense(num_classes, activation='softmax')])\n",
        "model_7.compile(loss='categorical_crossentropy',\n",
        "              optimizer=tf.keras.optimizers.Adam(learning_rate=0.002),\n",
        "              metrics=['accuracy'])\n",
        "model_7.summary()"
      ],
      "id": "f4b28c38"
    },
    {
      "cell_type": "code",
      "execution_count": 46,
      "metadata": {
        "id": "f99f3074",
        "colab": {
          "base_uri": "https://localhost:8080/",
          "height": 1000
        },
        "outputId": "71e73280-d29f-46ae-a5e9-615c32767d0e"
      },
      "outputs": [
        {
          "output_type": "stream",
          "name": "stdout",
          "text": [
            "Epoch 1/20\n",
            "140/140 [==============================] - 15s 52ms/step - loss: 0.9589 - accuracy: 0.5746 - val_loss: 0.7299 - val_accuracy: 0.6733\n",
            "Epoch 2/20\n",
            "140/140 [==============================] - 5s 35ms/step - loss: 0.6051 - accuracy: 0.7579 - val_loss: 0.5745 - val_accuracy: 0.7683\n",
            "Epoch 3/20\n",
            "140/140 [==============================] - 6s 40ms/step - loss: 0.5020 - accuracy: 0.8046 - val_loss: 0.4799 - val_accuracy: 0.8150\n",
            "Epoch 4/20\n",
            "140/140 [==============================] - 5s 36ms/step - loss: 0.4260 - accuracy: 0.8264 - val_loss: 0.4327 - val_accuracy: 0.8383\n",
            "Epoch 5/20\n",
            "140/140 [==============================] - 5s 36ms/step - loss: 0.3947 - accuracy: 0.8393 - val_loss: 0.4078 - val_accuracy: 0.8367\n",
            "Epoch 6/20\n",
            "140/140 [==============================] - 5s 38ms/step - loss: 0.3731 - accuracy: 0.8489 - val_loss: 0.3864 - val_accuracy: 0.8550\n",
            "Epoch 7/20\n",
            "140/140 [==============================] - 5s 36ms/step - loss: 0.3226 - accuracy: 0.8721 - val_loss: 0.4074 - val_accuracy: 0.8533\n",
            "Epoch 8/20\n",
            "140/140 [==============================] - 6s 41ms/step - loss: 0.3361 - accuracy: 0.8557 - val_loss: 0.3849 - val_accuracy: 0.8483\n",
            "Epoch 9/20\n",
            "140/140 [==============================] - 6s 42ms/step - loss: 0.3188 - accuracy: 0.8664 - val_loss: 0.4595 - val_accuracy: 0.8267\n",
            "Epoch 10/20\n",
            "140/140 [==============================] - 5s 37ms/step - loss: 0.2952 - accuracy: 0.8732 - val_loss: 0.3575 - val_accuracy: 0.8667\n",
            "Epoch 11/20\n",
            "140/140 [==============================] - 5s 37ms/step - loss: 0.2965 - accuracy: 0.8736 - val_loss: 0.4917 - val_accuracy: 0.8117\n",
            "Epoch 12/20\n",
            "140/140 [==============================] - 5s 36ms/step - loss: 0.2800 - accuracy: 0.8818 - val_loss: 0.3565 - val_accuracy: 0.8533\n",
            "Epoch 13/20\n",
            "140/140 [==============================] - 5s 34ms/step - loss: 0.2898 - accuracy: 0.8729 - val_loss: 0.5121 - val_accuracy: 0.8050\n",
            "Epoch 14/20\n",
            "140/140 [==============================] - 5s 37ms/step - loss: 0.2721 - accuracy: 0.8800 - val_loss: 0.4094 - val_accuracy: 0.8467\n",
            "Epoch 15/20\n",
            "140/140 [==============================] - 5s 36ms/step - loss: 0.2692 - accuracy: 0.8900 - val_loss: 0.4100 - val_accuracy: 0.8217\n",
            "Epoch 16/20\n",
            "140/140 [==============================] - 5s 36ms/step - loss: 0.2520 - accuracy: 0.8929 - val_loss: 0.3837 - val_accuracy: 0.8633\n",
            "Epoch 17/20\n",
            "140/140 [==============================] - 5s 37ms/step - loss: 0.2439 - accuracy: 0.8939 - val_loss: 0.3825 - val_accuracy: 0.8583\n",
            "Epoch 18/20\n",
            "140/140 [==============================] - 5s 36ms/step - loss: 0.2692 - accuracy: 0.8850 - val_loss: 0.4139 - val_accuracy: 0.8183\n",
            "Epoch 19/20\n",
            "140/140 [==============================] - 5s 35ms/step - loss: 0.2390 - accuracy: 0.8946 - val_loss: 0.4329 - val_accuracy: 0.8250\n",
            "Epoch 20/20\n",
            "140/140 [==============================] - 6s 40ms/step - loss: 0.2474 - accuracy: 0.8900 - val_loss: 0.5069 - val_accuracy: 0.8233\n"
          ]
        },
        {
          "output_type": "display_data",
          "data": {
            "text/plain": [
              "<Figure size 640x480 with 1 Axes>"
            ],
            "image/png": "[encoded data removed]"
          },
          "metadata": {}
        }
      ],
      "source": [
        "#fit the InceptionV3 model on our training and validation data\n",
        "early_stopping_cb = tf.keras.callbacks.EarlyStopping(patience = 10, restore_best_weights=True)\n",
        "log_3 = model_7.fit(x_preprocess_train, Y_train,\n",
        "                      validation_data = (x_preprocess_valid,Y_valid),\n",
        "                      batch_size=20,\n",
        "                      epochs=20,callbacks = [early_stopping_cb])\n",
        "\n",
        "plt.plot(log_3.history['loss'],label = \"training loss\",color='darkgreen')\n",
        "plt.plot(log_3.history['val_loss'], label = \"validation loss\",color='darkblue')\n",
        "plt.legend()\n",
        "ax = plt.gca()\n",
        "plt.show()"
      ],
      "id": "f99f3074"
    },
    {
      "cell_type": "code",
      "execution_count": 47,
      "metadata": {
        "id": "a4b7fb77",
        "colab": {
          "base_uri": "https://localhost:8080/"
        },
        "outputId": "71904981-3cd5-488f-84cd-9606d479dd7f"
      },
      "outputs": [
        {
          "output_type": "stream",
          "name": "stdout",
          "text": [
            "19/19 [==============================] - 4s 67ms/step - loss: 0.5069 - accuracy: 0.8233\n"
          ]
        }
      ],
      "source": [
        "#evaluate the model on the validation set\n",
        "model_7_validation = model_7.evaluate(x_preprocess_valid, Y_valid)"
      ],
      "id": "a4b7fb77"
    },
    {
      "cell_type": "code",
      "execution_count": 48,
      "metadata": {
        "id": "a7f16916",
        "colab": {
          "base_uri": "https://localhost:8080/"
        },
        "outputId": "69a905f1-61e8-43e1-8685-db5c4e9c9615"
      },
      "outputs": [
        {
          "output_type": "stream",
          "name": "stdout",
          "text": [
            "19/19 [==============================] - 0s 21ms/step - loss: 0.5452 - accuracy: 0.8133\n"
          ]
        }
      ],
      "source": [
        "#evaluate the model on the test set\n",
        "model_7_test = model_7.evaluate(x_preprocess_test, Y_test)"
      ],
      "id": "a7f16916"
    },
    {
      "cell_type": "code",
      "execution_count": 49,
      "metadata": {
        "id": "Dyc7gX2xbo5w",
        "colab": {
          "base_uri": "https://localhost:8080/"
        },
        "outputId": "92e742fb-43d5-44ce-da1a-a39b6c6c97fc"
      },
      "outputs": [
        {
          "output_type": "stream",
          "name": "stdout",
          "text": [
            "The validation set accuracy of CNN model with 3 Convolutional layers is: 0.9\n",
            "The validation loss in CNN model with 3 Convolutional layers is: 0.226\n",
            "---------------------\n",
            "The validation set accuracy of mobilenet model is: 0.86\n",
            "The validation loss in mobilenet model is: 0.343\n",
            "---------------------\n",
            "The validation set accuracy of InceptionV3 model is; 0.823\n",
            "The validation loss in InceptionV3 model is; 0.507\n"
          ]
        }
      ],
      "source": [
        "#compare all CNN models\n",
        "\n",
        "print(\"The validation set accuracy of CNN model with 3 Convolutional layers is:\", round(model_5_validation[1], 3))\n",
        "print(\"The validation loss in CNN model with 3 Convolutional layers is:\", round(model_5_validation[0], 3))\n",
        "print(\"---------------------\")\n",
        "print(\"The validation set accuracy of mobilenet model is:\", round(model_6_validation[1], 3))\n",
        "print(\"The validation loss in mobilenet model is:\", round(model_6_validation[0], 3))\n",
        "print(\"---------------------\")\n",
        "print(\"The validation set accuracy of InceptionV3 model is;\", round(model_7_validation[1], 3))\n",
        "print(\"The validation loss in InceptionV3 model is;\", round(model_7_validation[0], 3))"
      ],
      "id": "Dyc7gX2xbo5w"
    },
    {
      "cell_type": "markdown",
      "source": [
        "As observed from the model performances, the CNN model with 3 layers (Model 5) has the best performance and can be used for the combined training and validation dataset. For a detailed explanation of the selection of the best model, refer to the PDF."
      ],
      "metadata": {
        "id": "0vj8bcIhZ-sJ"
      },
      "id": "0vj8bcIhZ-sJ"
    },
    {
      "cell_type": "markdown",
      "metadata": {
        "id": "4676adbb"
      },
      "source": [
        "#### Q9. Compare the models you have created so far and select the best model (making sure to justify this). Train that model on a combined training and validation set and evaluate it on your test set. Make sure to record your final test accuracy."
      ],
      "id": "4676adbb"
    },
    {
      "cell_type": "code",
      "execution_count": 50,
      "metadata": {
        "id": "84d0a7a5",
        "colab": {
          "base_uri": "https://localhost:8080/"
        },
        "outputId": "2fef18bd-1e84-4e76-b62a-f032c7331fbc"
      },
      "outputs": [
        {
          "output_type": "stream",
          "name": "stdout",
          "text": [
            "(3400, 5000, 2)\n",
            "(3400, 4)\n"
          ]
        }
      ],
      "source": [
        "#combine training and validation set to allow the final training set to contain 85% of original data\n",
        "\n",
        "X_train_valid = np.concatenate((X_train, X_valid))\n",
        "Y_train_valid = np.concatenate((y_train, y_valid))\n",
        "\n",
        "print(X_train_valid.shape)\n",
        "print(Y_train_valid.shape)"
      ],
      "id": "84d0a7a5"
    },
    {
      "cell_type": "code",
      "source": [
        "#Since Model 5 has been performing the best, we need to convert the data to the same shape, as shown in Model 5\n",
        "\n",
        "# input image dimensions\n",
        "num_classes = 4\n",
        "img_rows, img_cols, img_channels = 100, 100, 1 # the array shape that we want to convert our data to\n",
        "\n",
        "# change the type of the current training and testing data\n",
        "X_train_valid = X_train_valid.astype('float32')\n",
        "\n",
        "# convert the X_train_valid into a single array \n",
        "if K.image_data_format() == 'channels_first':\n",
        "    X_train_valid = X_train_valid.reshape(X_train_valid.shape[0], img_channels, img_rows, img_cols)\n",
        "    input_shape = (img_channels, img_rows, img_cols)\n",
        "else:\n",
        "    X_train_valid= X_train_valid.reshape(X_train_valid.shape[0], img_rows, img_cols, img_channels)\n",
        "    input_shape = (img_rows, img_cols, img_channels)\n",
        "\n",
        "print(X_train_valid[0].shape)"
      ],
      "metadata": {
        "id": "gSFkOc8J1x95",
        "colab": {
          "base_uri": "https://localhost:8080/"
        },
        "outputId": "309f1bec-81e9-4903-e7f8-ddce7710e9b3"
      },
      "id": "gSFkOc8J1x95",
      "execution_count": 51,
      "outputs": [
        {
          "output_type": "stream",
          "name": "stdout",
          "text": [
            "(100, 100, 1)\n"
          ]
        }
      ]
    },
    {
      "cell_type": "code",
      "source": [
        "#fit the CNN model on our combined training and validation data\n",
        "\n",
        "def train_and_plot3(model_cnn2, learning_rate = 0.001, epochs = 10):\n",
        "    np.random.seed(312)\n",
        "    tf.random.set_seed(312)\n",
        "    model_cnn2.compile(loss='categorical_crossentropy',\n",
        "              optimizer=tf.keras.optimizers.Adam(learning_rate=0.001),\n",
        "              metrics=['accuracy'])\n",
        "    early_stopping_cb = tf.keras.callbacks.EarlyStopping(patience = 5, restore_best_weights=True)\n",
        "    log = model_cnn2.fit(X_train_valid,Y_train_valid,batch_size=20, \n",
        "                    epochs=epochs,callbacks = [early_stopping_cb])\n",
        "    plt.plot(log.history['loss'],label = \"training loss\",color='darkgreen')\n",
        "    plt.legend()\n",
        "    ax = plt.gca()\n",
        "    ax.set_ylim([0, log.history['loss'][2]])\n",
        "    plt.show()\n",
        "    return model_cnn2"
      ],
      "metadata": {
        "id": "d_9JO_0mBq2O"
      },
      "id": "d_9JO_0mBq2O",
      "execution_count": 52,
      "outputs": []
    },
    {
      "cell_type": "code",
      "source": [
        "train_and_plot3(model_5)"
      ],
      "metadata": {
        "colab": {
          "base_uri": "https://localhost:8080/",
          "height": 988
        },
        "id": "y9oqFV2tCL69",
        "outputId": "19432d87-9c19-42ec-e27c-3a75b164ddf8"
      },
      "id": "y9oqFV2tCL69",
      "execution_count": 53,
      "outputs": [
        {
          "output_type": "stream",
          "name": "stdout",
          "text": [
            "Epoch 1/10\n",
            "165/170 [============================>.] - ETA: 0s - loss: 0.2919 - accuracy: 0.8876"
          ]
        },
        {
          "output_type": "stream",
          "name": "stderr",
          "text": [
            "WARNING:tensorflow:Early stopping conditioned on metric `val_loss` which is not available. Available metrics are: loss,accuracy\n"
          ]
        },
        {
          "output_type": "stream",
          "name": "stdout",
          "text": [
            "\b\b\b\b\b\b\b\b\b\b\b\b\b\b\b\b\b\b\b\b\b\b\b\b\b\b\b\b\b\b\b\b\b\b\b\b\b\b\b\b\b\b\b\b\b\b\b\b\b\b\b\b\b\b\b\b\b\b\b\b\b\b\b\b\b\b\b\b\b\b\b\b\b\b\b\b\b\b\b\b\b\b\b\b\r170/170 [==============================] - 3s 6ms/step - loss: 0.2927 - accuracy: 0.8868\n",
            "Epoch 2/10\n",
            "170/170 [==============================] - ETA: 0s - loss: 0.2685 - accuracy: 0.8915"
          ]
        },
        {
          "output_type": "stream",
          "name": "stderr",
          "text": [
            "WARNING:tensorflow:Early stopping conditioned on metric `val_loss` which is not available. Available metrics are: loss,accuracy\n"
          ]
        },
        {
          "output_type": "stream",
          "name": "stdout",
          "text": [
            "\b\b\b\b\b\b\b\b\b\b\b\b\b\b\b\b\b\b\b\b\b\b\b\b\b\b\b\b\b\b\b\b\b\b\b\b\b\b\b\b\b\b\b\b\b\b\b\b\b\b\b\b\b\b\b\b\b\b\b\b\b\b\b\b\b\b\b\b\b\b\b\b\b\b\b\b\b\b\b\b\b\b\b\b\r170/170 [==============================] - 1s 5ms/step - loss: 0.2685 - accuracy: 0.8915\n",
            "Epoch 3/10\n",
            "167/170 [============================>.] - ETA: 0s - loss: 0.2740 - accuracy: 0.8814"
          ]
        },
        {
          "output_type": "stream",
          "name": "stderr",
          "text": [
            "WARNING:tensorflow:Early stopping conditioned on metric `val_loss` which is not available. Available metrics are: loss,accuracy\n"
          ]
        },
        {
          "output_type": "stream",
          "name": "stdout",
          "text": [
            "\b\b\b\b\b\b\b\b\b\b\b\b\b\b\b\b\b\b\b\b\b\b\b\b\b\b\b\b\b\b\b\b\b\b\b\b\b\b\b\b\b\b\b\b\b\b\b\b\b\b\b\b\b\b\b\b\b\b\b\b\b\b\b\b\b\b\b\b\b\b\b\b\b\b\b\b\b\b\b\b\b\b\b\b\r170/170 [==============================] - 1s 5ms/step - loss: 0.2729 - accuracy: 0.8815\n",
            "Epoch 4/10\n",
            "161/170 [===========================>..] - ETA: 0s - loss: 0.2516 - accuracy: 0.8953"
          ]
        },
        {
          "output_type": "stream",
          "name": "stderr",
          "text": [
            "WARNING:tensorflow:Early stopping conditioned on metric `val_loss` which is not available. Available metrics are: loss,accuracy\n"
          ]
        },
        {
          "output_type": "stream",
          "name": "stdout",
          "text": [
            "\b\b\b\b\b\b\b\b\b\b\b\b\b\b\b\b\b\b\b\b\b\b\b\b\b\b\b\b\b\b\b\b\b\b\b\b\b\b\b\b\b\b\b\b\b\b\b\b\b\b\b\b\b\b\b\b\b\b\b\b\b\b\b\b\b\b\b\b\b\b\b\b\b\b\b\b\b\b\b\b\b\b\b\b\r170/170 [==============================] - 1s 5ms/step - loss: 0.2513 - accuracy: 0.8941\n",
            "Epoch 5/10\n",
            "168/170 [============================>.] - ETA: 0s - loss: 0.2425 - accuracy: 0.8961"
          ]
        },
        {
          "output_type": "stream",
          "name": "stderr",
          "text": [
            "WARNING:tensorflow:Early stopping conditioned on metric `val_loss` which is not available. Available metrics are: loss,accuracy\n"
          ]
        },
        {
          "output_type": "stream",
          "name": "stdout",
          "text": [
            "\b\b\b\b\b\b\b\b\b\b\b\b\b\b\b\b\b\b\b\b\b\b\b\b\b\b\b\b\b\b\b\b\b\b\b\b\b\b\b\b\b\b\b\b\b\b\b\b\b\b\b\b\b\b\b\b\b\b\b\b\b\b\b\b\b\b\b\b\b\b\b\b\b\b\b\b\b\b\b\b\b\b\b\b\r170/170 [==============================] - 1s 5ms/step - loss: 0.2422 - accuracy: 0.8962\n",
            "Epoch 6/10\n",
            "166/170 [============================>.] - ETA: 0s - loss: 0.2356 - accuracy: 0.8985"
          ]
        },
        {
          "output_type": "stream",
          "name": "stderr",
          "text": [
            "WARNING:tensorflow:Early stopping conditioned on metric `val_loss` which is not available. Available metrics are: loss,accuracy\n"
          ]
        },
        {
          "output_type": "stream",
          "name": "stdout",
          "text": [
            "\b\b\b\b\b\b\b\b\b\b\b\b\b\b\b\b\b\b\b\b\b\b\b\b\b\b\b\b\b\b\b\b\b\b\b\b\b\b\b\b\b\b\b\b\b\b\b\b\b\b\b\b\b\b\b\b\b\b\b\b\b\b\b\b\b\b\b\b\b\b\b\b\b\b\b\b\b\b\b\b\b\b\b\b\r170/170 [==============================] - 1s 5ms/step - loss: 0.2359 - accuracy: 0.8982\n",
            "Epoch 7/10\n",
            "166/170 [============================>.] - ETA: 0s - loss: 0.2536 - accuracy: 0.8949"
          ]
        },
        {
          "output_type": "stream",
          "name": "stderr",
          "text": [
            "WARNING:tensorflow:Early stopping conditioned on metric `val_loss` which is not available. Available metrics are: loss,accuracy\n"
          ]
        },
        {
          "output_type": "stream",
          "name": "stdout",
          "text": [
            "\b\b\b\b\b\b\b\b\b\b\b\b\b\b\b\b\b\b\b\b\b\b\b\b\b\b\b\b\b\b\b\b\b\b\b\b\b\b\b\b\b\b\b\b\b\b\b\b\b\b\b\b\b\b\b\b\b\b\b\b\b\b\b\b\b\b\b\b\b\b\b\b\b\b\b\b\b\b\b\b\b\b\b\b\r170/170 [==============================] - 1s 6ms/step - loss: 0.2539 - accuracy: 0.8947\n",
            "Epoch 8/10\n",
            "167/170 [============================>.] - ETA: 0s - loss: 0.2424 - accuracy: 0.8940"
          ]
        },
        {
          "output_type": "stream",
          "name": "stderr",
          "text": [
            "WARNING:tensorflow:Early stopping conditioned on metric `val_loss` which is not available. Available metrics are: loss,accuracy\n"
          ]
        },
        {
          "output_type": "stream",
          "name": "stdout",
          "text": [
            "\b\b\b\b\b\b\b\b\b\b\b\b\b\b\b\b\b\b\b\b\b\b\b\b\b\b\b\b\b\b\b\b\b\b\b\b\b\b\b\b\b\b\b\b\b\b\b\b\b\b\b\b\b\b\b\b\b\b\b\b\b\b\b\b\b\b\b\b\b\b\b\b\b\b\b\b\b\b\b\b\b\b\b\b\r170/170 [==============================] - 1s 8ms/step - loss: 0.2429 - accuracy: 0.8944\n",
            "Epoch 9/10\n",
            "169/170 [============================>.] - ETA: 0s - loss: 0.2390 - accuracy: 0.8935"
          ]
        },
        {
          "output_type": "stream",
          "name": "stderr",
          "text": [
            "WARNING:tensorflow:Early stopping conditioned on metric `val_loss` which is not available. Available metrics are: loss,accuracy\n"
          ]
        },
        {
          "output_type": "stream",
          "name": "stdout",
          "text": [
            "\b\b\b\b\b\b\b\b\b\b\b\b\b\b\b\b\b\b\b\b\b\b\b\b\b\b\b\b\b\b\b\b\b\b\b\b\b\b\b\b\b\b\b\b\b\b\b\b\b\b\b\b\b\b\b\b\b\b\b\b\b\b\b\b\b\b\b\b\b\b\b\b\b\b\b\b\b\b\b\b\b\b\b\b\r170/170 [==============================] - 1s 7ms/step - loss: 0.2385 - accuracy: 0.8938\n",
            "Epoch 10/10\n",
            "168/170 [============================>.] - ETA: 0s - loss: 0.2367 - accuracy: 0.8961"
          ]
        },
        {
          "output_type": "stream",
          "name": "stderr",
          "text": [
            "WARNING:tensorflow:Early stopping conditioned on metric `val_loss` which is not available. Available metrics are: loss,accuracy\n"
          ]
        },
        {
          "output_type": "stream",
          "name": "stdout",
          "text": [
            "\b\b\b\b\b\b\b\b\b\b\b\b\b\b\b\b\b\b\b\b\b\b\b\b\b\b\b\b\b\b\b\b\b\b\b\b\b\b\b\b\b\b\b\b\b\b\b\b\b\b\b\b\b\b\b\b\b\b\b\b\b\b\b\b\b\b\b\b\b\b\b\b\b\b\b\b\b\b\b\b\b\b\b\b\r170/170 [==============================] - 1s 7ms/step - loss: 0.2364 - accuracy: 0.8968\n"
          ]
        },
        {
          "output_type": "display_data",
          "data": {
            "text/plain": [
              "<Figure size 640x480 with 1 Axes>"
            ],
            "image/png": "[encoded data removed]"
          },
          "metadata": {}
        },
        {
          "output_type": "execute_result",
          "data": {
            "text/plain": [
              "<keras.engine.sequential.Sequential at 0x7f0f56d40fa0>"
            ]
          },
          "metadata": {},
          "execution_count": 53
        }
      ]
    },
    {
      "cell_type": "code",
      "source": [
        "#evaluate the model on the test set\n",
        "model_5.evaluate(x_test, y_test)"
      ],
      "metadata": {
        "colab": {
          "base_uri": "https://localhost:8080/"
        },
        "id": "2_MUKs7cCX6v",
        "outputId": "2954fd7f-ee9e-4e8d-be16-43b33711c07a"
      },
      "id": "2_MUKs7cCX6v",
      "execution_count": 54,
      "outputs": [
        {
          "output_type": "stream",
          "name": "stdout",
          "text": [
            "19/19 [==============================] - 0s 4ms/step - loss: 0.2481 - accuracy: 0.8950\n"
          ]
        },
        {
          "output_type": "execute_result",
          "data": {
            "text/plain": [
              "[0.24811884760856628, 0.8949999809265137]"
            ]
          },
          "metadata": {},
          "execution_count": 54
        }
      ]
    },
    {
      "cell_type": "code",
      "source": [
        "#Save the best model\n",
        "model_5.save(\"best_model_final2.h5\")"
      ],
      "metadata": {
        "id": "TzceTur5DxrT"
      },
      "id": "TzceTur5DxrT",
      "execution_count": 56,
      "outputs": []
    }
  ],
  "metadata": {
    "colab": {
      "provenance": []
    },
    "kernelspec": {
      "display_name": "Python 3 (ipykernel)",
      "language": "python",
      "name": "python3"
    },
    "language_info": {
      "codemirror_mode": {
        "name": "ipython",
        "version": 3
      },
      "file_extension": ".py",
      "mimetype": "text/x-python",
      "name": "python",
      "nbconvert_exporter": "python",
      "pygments_lexer": "ipython3",
      "version": "3.9.16"
    },
    "gpuClass": "standard",
    "accelerator": "GPU"
  },
  "nbformat": 4,
  "nbformat_minor": 5
}